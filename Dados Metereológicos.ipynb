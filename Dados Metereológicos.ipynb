{
 "cells": [
  {
   "cell_type": "code",
   "execution_count": 3,
   "id": "bcb2cf9f",
   "metadata": {},
   "outputs": [
    {
     "name": "stdout",
     "output_type": "stream",
     "text": [
      "Requirement already satisfied: pytz in c:\\users\\eduarda mb\\anaconda3\\lib\\site-packages (2021.3)\n",
      "Note: you may need to restart the kernel to use updated packages.\n"
     ]
    }
   ],
   "source": [
    "pip install pytz"
   ]
  },
  {
   "cell_type": "code",
   "execution_count": 1,
   "id": "2dc3c05e",
   "metadata": {},
   "outputs": [],
   "source": [
    "# Carregando as bibliotecas\n",
    "import pandas as pd\n",
    "import numpy as np\n",
    "import pytz as tz\n",
    "import datetime as dt"
   ]
  },
  {
   "cell_type": "code",
   "execution_count": 2,
   "id": "992c5fce",
   "metadata": {},
   "outputs": [],
   "source": [
    "# Lendo os arquivos\n",
    "Est_Met_2017 = pd.read_csv('Est_Met_2017.csv', sep=\";\", header=0, encoding='ISO-8859-1')\n",
    "Est_Met_2018 = pd.read_csv('Est_Met_2018.csv', sep=\";\", header=0, encoding='ISO-8859-1')\n",
    "Est_Met_2019 = pd.read_csv('Est_Met_2019.csv', sep=\";\", header=0, encoding='ISO-8859-1')"
   ]
  },
  {
   "cell_type": "code",
   "execution_count": 3,
   "id": "419e41a8",
   "metadata": {},
   "outputs": [],
   "source": [
    "Est_Met_01=pd.concat([Est_Met_2017,Est_Met_2018,Est_Met_2019])"
   ]
  },
  {
   "cell_type": "code",
   "execution_count": 4,
   "id": "e08d17bd",
   "metadata": {},
   "outputs": [
    {
     "name": "stdout",
     "output_type": "stream",
     "text": [
      "       ï»¿\"Data\"  Hora (UTC) Temp. Ins. (C) Temp. Max. (C) Temp. Min. (C)  \\\n",
      "0     01/01/2017           0           24,8           26,0           24,7   \n",
      "1     01/01/2017         100           24,0           24,8           23,9   \n",
      "2     01/01/2017         200           22,9           23,9           22,9   \n",
      "3     01/01/2017         300           22,5           23,0           22,3   \n",
      "4     01/01/2017         400           22,1           22,5           22,0   \n",
      "...          ...         ...            ...            ...            ...   \n",
      "8755  31/12/2019        1900           28,5           29,5           27,3   \n",
      "8756  31/12/2019        2000           26,2           28,5           25,9   \n",
      "8757  31/12/2019        2100           25,7           26,2           25,6   \n",
      "8758  31/12/2019        2200           24,9           25,8           24,8   \n",
      "8759  31/12/2019        2300           24,0           25,0           24,0   \n",
      "\n",
      "     Umi. Ins. (%) Umi. Max. (%) Umi. Min. (%) Pto Orvalho Ins. (C)  \\\n",
      "0             60,0          60,0          53,0                 16,5   \n",
      "1             64,0          64,0          60,0                 16,8   \n",
      "2             65,0          65,0          64,0                 16,0   \n",
      "3             65,0          66,0          64,0                 15,7   \n",
      "4             65,0          66,0          65,0                 15,3   \n",
      "...            ...           ...           ...                  ...   \n",
      "8755          42,0          50,0          38,0                 14,5   \n",
      "8756          52,0          53,0          40,0                 15,6   \n",
      "8757          55,0          56,0          52,0                 16,1   \n",
      "8758          57,0          58,0          55,0                 15,7   \n",
      "8759          61,0          61,0          57,0                 16,0   \n",
      "\n",
      "     Pto Orvalho Max. (C) Pto Orvalho Min. (C) Pressao Ins. (hPa)  \\\n",
      "0                    16,5                 15,7              918,7   \n",
      "1                    16,9                 16,3              919,5   \n",
      "2                    16,7                 16,0              919,5   \n",
      "3                    16,1                 15,7              918,9   \n",
      "4                    15,6                 15,3              918,3   \n",
      "...                   ...                  ...                ...   \n",
      "8755                 16,0                 13,2              913,3   \n",
      "8756                 16,1                 13,5              913,3   \n",
      "8757                 16,6                 15,6              913,5   \n",
      "8758                 16,2                 15,7              914,0   \n",
      "8759                 16,1                 15,7              914,4   \n",
      "\n",
      "     Pressao Max. (hPa) Pressao Min. (hPa) Vel. Vento (m/s) Dir. Vento (m/s)  \\\n",
      "0                 918,7              917,8              2,3             77,0   \n",
      "1                 919,5              918,7              2,4             95,0   \n",
      "2                 919,8              919,5              2,5             94,0   \n",
      "3                 919,5              918,9              2,5            101,0   \n",
      "4                 918,9              918,3              2,8            110,0   \n",
      "...                 ...                ...              ...              ...   \n",
      "8755              913,8              913,3              1,9             72,0   \n",
      "8756              913,4              913,3              4,3            108,0   \n",
      "8757              913,5              913,2              3,1            109,0   \n",
      "8758              914,0              913,4              2,8             84,0   \n",
      "8759              914,4              914,0              2,1             88,0   \n",
      "\n",
      "     Raj. Vento (m/s) Radiacao (KJ/mÂ²) Chuva (mm)  \n",
      "0                 8,3               NaN        0,0  \n",
      "1                 6,2               NaN        0,0  \n",
      "2                 5,8               NaN        0,0  \n",
      "3                 5,7               NaN        0,0  \n",
      "4                 6,2               NaN        0,0  \n",
      "...               ...               ...        ...  \n",
      "8755              5,0           1747,20        0,0  \n",
      "8756              8,6            577,50        0,0  \n",
      "8757              8,6            655,50        0,0  \n",
      "8758              7,8             44,00        0,0  \n",
      "8759              6,7               NaN        0,0  \n",
      "\n",
      "[26280 rows x 19 columns]\n"
     ]
    }
   ],
   "source": [
    "print(Est_Met_01)"
   ]
  },
  {
   "cell_type": "code",
   "execution_count": 5,
   "id": "bbcdd3d4",
   "metadata": {},
   "outputs": [
    {
     "data": {
      "text/plain": [
       "Index(['ï»¿\"Data\"', 'Hora (UTC)', 'Temp. Ins. (C)', 'Temp. Max. (C)',\n",
       "       'Temp. Min. (C)', 'Umi. Ins. (%)', 'Umi. Max. (%)', 'Umi. Min. (%)',\n",
       "       'Pto Orvalho Ins. (C)', 'Pto Orvalho Max. (C)', 'Pto Orvalho Min. (C)',\n",
       "       'Pressao Ins. (hPa)', 'Pressao Max. (hPa)', 'Pressao Min. (hPa)',\n",
       "       'Vel. Vento (m/s)', 'Dir. Vento (m/s)', 'Raj. Vento (m/s)',\n",
       "       'Radiacao (KJ/mÂ²)', 'Chuva (mm)'],\n",
       "      dtype='object')"
      ]
     },
     "execution_count": 5,
     "metadata": {},
     "output_type": "execute_result"
    }
   ],
   "source": [
    "Est_Met_01.columns"
   ]
  },
  {
   "cell_type": "code",
   "execution_count": 6,
   "id": "a12333c9",
   "metadata": {},
   "outputs": [
    {
     "name": "stdout",
     "output_type": "stream",
     "text": [
      "            DATA  HORA (UTC) CHUVA (mm)\n",
      "0     01/01/2017           0        0,0\n",
      "1     01/01/2017         100        0,0\n",
      "2     01/01/2017         200        0,0\n",
      "3     01/01/2017         300        0,0\n",
      "4     01/01/2017         400        0,0\n",
      "...          ...         ...        ...\n",
      "8755  31/12/2019        1900        0,0\n",
      "8756  31/12/2019        2000        0,0\n",
      "8757  31/12/2019        2100        0,0\n",
      "8758  31/12/2019        2200        0,0\n",
      "8759  31/12/2019        2300        0,0\n",
      "\n",
      "[26280 rows x 3 columns]\n"
     ]
    }
   ],
   "source": [
    "# Eliminando colunas desnecessárias\n",
    "Est_Met_02=Est_Met_01.drop(columns=['Temp. Ins. (C)', 'Temp. Max. (C)',\n",
    "       'Temp. Min. (C)', 'Umi. Ins. (%)', 'Umi. Max. (%)', 'Umi. Min. (%)',\n",
    "       'Pto Orvalho Ins. (C)', 'Pto Orvalho Max. (C)', 'Pto Orvalho Min. (C)',\n",
    "       'Pressao Ins. (hPa)', 'Pressao Max. (hPa)', 'Pressao Min. (hPa)',\n",
    "       'Vel. Vento (m/s)', 'Dir. Vento (m/s)', 'Raj. Vento (m/s)',\n",
    "       'Radiacao (KJ/mÂ²)'])\n",
    "# Renomeando colunas\n",
    "Est_Met_02=Est_Met_02.rename(columns={'ï»¿\"Data\"':'DATA',\n",
    "                                     'Hora (UTC)':'HORA (UTC)',\n",
    "                                     'Chuva (mm)':'CHUVA (mm)'})\n",
    "\n",
    "print(Est_Met_02)"
   ]
  },
  {
   "cell_type": "code",
   "execution_count": 7,
   "id": "f93beb2d",
   "metadata": {},
   "outputs": [
    {
     "name": "stdout",
     "output_type": "stream",
     "text": [
      "[   0  100  200  300  400  500  600  700  800  900 1000 1100 1200 1300\n",
      " 1400 1500 1600 1700 1800 1900 2000 2100 2200 2300]\n"
     ]
    }
   ],
   "source": [
    "# Verificando a coluna Horas\n",
    "Horas_UTC=Est_Met_02['HORA (UTC)'].unique()\n",
    "print(Horas_UTC)"
   ]
  },
  {
   "cell_type": "code",
   "execution_count": 8,
   "id": "c3ef2e6e",
   "metadata": {},
   "outputs": [
    {
     "name": "stdout",
     "output_type": "stream",
     "text": [
      "            DATA HORA (UTC) CHUVA (mm)\n",
      "0     01/01/2017      00:00        0,0\n",
      "1     01/01/2017      01:00        0,0\n",
      "2     01/01/2017      02:00        0,0\n",
      "3     01/01/2017      03:00        0,0\n",
      "4     01/01/2017      04:00        0,0\n",
      "...          ...        ...        ...\n",
      "8755  31/12/2019      19:00        0,0\n",
      "8756  31/12/2019      20:00        0,0\n",
      "8757  31/12/2019      21:00        0,0\n",
      "8758  31/12/2019      22:00        0,0\n",
      "8759  31/12/2019      23:00        0,0\n",
      "\n",
      "[26280 rows x 3 columns]\n"
     ]
    }
   ],
   "source": [
    "# Organizando os valores das Horas\n",
    "Est_Met_03=Est_Met_02.copy()\n",
    "Est_Met_03['HORA (UTC)'] = Est_Met_03['HORA (UTC)'].astype(str)\n",
    "Est_Met_03['HORA (UTC)'] = Est_Met_03['HORA (UTC)'].replace({'0': '00:00','100': '01:00','200': '02:00', '300': '03:00', '400': '04:00'\n",
    ", '500': '05:00', '600': '06:00', '700': '07:00', '800': '08:00', '900': '09:00', '1000': '10:00', '1100': '11:00'\n",
    ", '1200': '12:00', '1300': '13:00', '1400': '14:00', '1500': '15:00', '1600': '16:00', '1700': '17:00', '1800': '18:00'\n",
    ", '1900': '19:00', '2000': '20:00', '2100': '21:00', '2200': '22:00', '2300': '23:00'})\n",
    "print(Est_Met_03)"
   ]
  },
  {
   "cell_type": "code",
   "execution_count": 9,
   "id": "c9e7eb9c",
   "metadata": {},
   "outputs": [
    {
     "name": "stdout",
     "output_type": "stream",
     "text": [
      "            DATA HORA (UTC) CHUVA (mm)\n",
      "0     01/01/2017      21:00        0,0\n",
      "1     01/01/2017      22:00        0,0\n",
      "2     01/01/2017      23:00        0,0\n",
      "3     01/01/2017      00:00        0,0\n",
      "4     01/01/2017      01:00        0,0\n",
      "...          ...        ...        ...\n",
      "8755  31/12/2019      16:00        0,0\n",
      "8756  31/12/2019      17:00        0,0\n",
      "8757  31/12/2019      18:00        0,0\n",
      "8758  31/12/2019      19:00        0,0\n",
      "8759  31/12/2019      20:00        0,0\n",
      "\n",
      "[26280 rows x 3 columns]\n"
     ]
    }
   ],
   "source": [
    "# Convertedo a Hora de UTC para o fuso de Belo Horizonte\n",
    "Est_Met_04=Est_Met_03.copy()\n",
    "Est_Met_04['HORA (UTC)'] = pd.to_datetime(Est_Met_04['HORA (UTC)'], \n",
    "                           format='%H:%M').dt.tz_localize('UTC').dt.tz_convert(tz.timezone('Etc/GMT+3')).dt.strftime('%H:%M')\n",
    "print(Est_Met_04)"
   ]
  },
  {
   "cell_type": "code",
   "execution_count": 12,
   "id": "eb8550a6",
   "metadata": {},
   "outputs": [
    {
     "name": "stdout",
     "output_type": "stream",
     "text": [
      "            DATA CHUVA (mm)  HORA\n",
      "0     01/01/2017        0,0    21\n",
      "1     01/01/2017        0,0    22\n",
      "2     01/01/2017        0,0    23\n",
      "3     01/01/2017        0,0     0\n",
      "4     01/01/2017        0,0     1\n",
      "...          ...        ...   ...\n",
      "8755  31/12/2019        0,0    16\n",
      "8756  31/12/2019        0,0    17\n",
      "8757  31/12/2019        0,0    18\n",
      "8758  31/12/2019        0,0    19\n",
      "8759  31/12/2019        0,0    20\n",
      "\n",
      "[26280 rows x 3 columns]\n"
     ]
    }
   ],
   "source": [
    "# Criando a coluna Hora e excluindo a coluna Hora(UTC)\n",
    "Est_Met_05=Est_Met_04.copy()\n",
    "Est_Met_05['HORA'] = pd.to_datetime(Est_Met_05['HORA (UTC)'], format='%H:%M').dt.hour\n",
    "Est_Met_05=Est_Met_05.drop(columns=['HORA (UTC)'])\n",
    "print(Est_Met_05)"
   ]
  },
  {
   "cell_type": "code",
   "execution_count": 13,
   "id": "83b5b02c",
   "metadata": {},
   "outputs": [],
   "source": [
    "Est_Met_05.to_excel('Base_Metereológicos.xlsx')"
   ]
  }
 ],
 "metadata": {
  "kernelspec": {
   "display_name": "Python 3 (ipykernel)",
   "language": "python",
   "name": "python3"
  },
  "language_info": {
   "codemirror_mode": {
    "name": "ipython",
    "version": 3
   },
   "file_extension": ".py",
   "mimetype": "text/x-python",
   "name": "python",
   "nbconvert_exporter": "python",
   "pygments_lexer": "ipython3",
   "version": "3.9.7"
  }
 },
 "nbformat": 4,
 "nbformat_minor": 5
}
