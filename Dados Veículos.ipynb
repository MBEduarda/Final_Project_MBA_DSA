{
 "cells": [
  {
   "cell_type": "code",
   "execution_count": 1,
   "id": "d9ddea2d",
   "metadata": {},
   "outputs": [],
   "source": [
    "# Carregando as bibliotecas\n",
    "import pandas as pd\n",
    "import numpy as np"
   ]
  },
  {
   "cell_type": "code",
   "execution_count": 2,
   "id": "0cd2d6c3",
   "metadata": {},
   "outputs": [],
   "source": [
    "# Lendo os arquivos\n",
    "veiculos_2017 = pd.read_csv('si-veic-2017.csv', sep=\";\", header=0, encoding='ISO-8859-1')\n",
    "veiculos_2018 = pd.read_csv('si-veic-2018.csv', sep=\";\", header=0, encoding='ISO-8859-1')\n",
    "veiculos_2019 = pd.read_csv('si-veic-2019.csv', sep=\";\", header=0, encoding='ISO-8859-1')"
   ]
  },
  {
   "cell_type": "code",
   "execution_count": 3,
   "id": "128aa3e9",
   "metadata": {},
   "outputs": [],
   "source": [
    "# Retirando o espaço em branco do nome das colunas\n",
    "veiculos_2017 = veiculos_2017.rename(columns=lambda x: x.strip() if isinstance(x, str) else x)\n",
    "veiculos_2018 = veiculos_2018.rename(columns=lambda x: x.strip() if isinstance(x, str) else x)\n",
    "veiculos_2019 = veiculos_2019.rename(columns=lambda x: x.strip() if isinstance(x, str) else x)"
   ]
  },
  {
   "cell_type": "code",
   "execution_count": 4,
   "id": "43ad4a36",
   "metadata": {},
   "outputs": [
    {
     "name": "stdout",
     "output_type": "stream",
     "text": [
      "               Nº_boletim               descricao_especie\n",
      "0      2017-012295590-001  MOTOCICLETA                   \n",
      "1      2017-012295590-001  AUTOMOVEL                     \n",
      "2      2017-012298672-001  MOTOCICLETA                   \n",
      "3      2017-012298672-001  AUTOMOVEL                     \n",
      "4      2017-012299194-001  MOTOCICLETA                   \n",
      "...                   ...                             ...\n",
      "24464  2019-006114270-001  ONIBUS                        \n",
      "24465  2019-057581385-001  CAMINHAO                      \n",
      "24466  2019-008607877-001  AUTOMOVEL                     \n",
      "24467  2019-058608151-001  REBOQUE E SEMI-REBOQUE        \n",
      "24468  2019-019022036-001  REBOQUE E SEMI-REBOQUE        \n",
      "\n",
      "[67614 rows x 2 columns]\n"
     ]
    }
   ],
   "source": [
    "# Concatenando os arquivos de 2017 e 2018 em um único data frame\n",
    "veiculos_df01 = pd.concat([veiculos_2017,veiculos_2018, veiculos_2019])\n",
    "veiculos_df02=veiculos_df01.drop(columns=['data_hora_boletim', 'seq_veic', 'cod_categ',\n",
    "       'descricao_categoria', 'cod_especie','cod_situacao', 'desc_situacao', 'tipo_socorro', 'desc_tipo_socorro'])\n",
    "veiculos_df02.dropna(inplace=True)# Eliminando linhas em branco\n",
    "print(veiculos_df02)"
   ]
  },
  {
   "cell_type": "code",
   "execution_count": 5,
   "id": "9eeb1c2a",
   "metadata": {},
   "outputs": [
    {
     "name": "stdout",
     "output_type": "stream",
     "text": [
      "['MOTOCICLETA' 'AUTOMOVEL' 'MOTONETA' 'CAMIONETA' 'ONIBUS'\n",
      " 'CAMINHAO-TRATOR' 'CAMINHONETE' 'MICROONIBUS' 'CAMINHAO' 'BICICLETA'\n",
      " 'NAO INFORMADO' 'KOMBI' 'REBOQUE E SEMI-REBOQUE' 'CHARRETE' 'MISTO'\n",
      " 'CICLOMOTOR' 'TRICICLO' 'CARROCA' 'TRATOR MISTO' 'CARRO DE MAO'\n",
      " 'TRATOR DE RODAS' 'TRACAO' 'BONDE' 'ESPECIAL' 'PATINETE' 'TAXI']\n"
     ]
    }
   ],
   "source": [
    "# Verificando os tipos de veiculos\n",
    "veiculos_df02['descricao_especie']=veiculos_df02['descricao_especie'].str.strip() # Removendo os espaços em branco\n",
    "tipos_veiculos = veiculos_df02['descricao_especie'].unique()\n",
    "print(tipos_veiculos)"
   ]
  },
  {
   "cell_type": "code",
   "execution_count": 6,
   "id": "ef078837",
   "metadata": {},
   "outputs": [
    {
     "name": "stdout",
     "output_type": "stream",
     "text": [
      "AUTOMOVEL                 31928\n",
      "MOTOCICLETA               26591\n",
      "ONIBUS                     3084\n",
      "CAMINHONETE                1507\n",
      "BICICLETA                  1171\n",
      "CAMINHAO                   1049\n",
      "CAMIONETA                   603\n",
      "NAO INFORMADO               532\n",
      "MOTONETA                    355\n",
      "MICROONIBUS                 282\n",
      "CAMINHAO-TRATOR             175\n",
      "REBOQUE E SEMI-REBOQUE      165\n",
      "KOMBI                        30\n",
      "CARRO DE MAO                 29\n",
      "CICLOMOTOR                   27\n",
      "CARROCA                      25\n",
      "PATINETE                     18\n",
      "ESPECIAL                     11\n",
      "BONDE                         8\n",
      "TRATOR DE RODAS               7\n",
      "TRICICLO                      5\n",
      "CHARRETE                      3\n",
      "TRACAO                        3\n",
      "MISTO                         3\n",
      "TRATOR MISTO                  2\n",
      "TAXI                          1\n",
      "Name: descricao_especie, dtype: int64\n"
     ]
    }
   ],
   "source": [
    "# Verificando a ocorrencia por tipo de veiculo\n",
    "ocorrencias_tipo = veiculos_df02['descricao_especie'].value_counts()\n",
    "print(ocorrencias_tipo)"
   ]
  },
  {
   "cell_type": "code",
   "execution_count": 7,
   "id": "63b8c45f",
   "metadata": {},
   "outputs": [
    {
     "name": "stdout",
     "output_type": "stream",
     "text": [
      "AUTOMOVEL          31928\n",
      "MOTOCICLETA        26591\n",
      "ONIBUS              3084\n",
      "CAMINHONETE         1507\n",
      "BICICLETA           1171\n",
      "CAMINHAO            1049\n",
      "CAMIONETA            603\n",
      "MOTONETA             355\n",
      "MICROONIBUS          282\n",
      "CAMINHAO-TRATOR      175\n",
      "Name: descricao_especie, dtype: int64\n"
     ]
    }
   ],
   "source": [
    "# Eliminando os tipos de veiculo não desejados\n",
    "veiculos_df03 = veiculos_df02[~veiculos_df02['descricao_especie'].isin(['TRICICLO', 'CARROCA' ,'TRATOR MISTO' ,'CARRO DE MAO',\n",
    "'TRATOR DE RODAS', 'TRACAO', 'BONDE', 'ESPECIAL', 'PATINETE', 'TAXI', 'NAO INFORMADO', 'KOMBI', 'REBOQUE E SEMI-REBOQUE',\n",
    "'CHARRETE', 'MISTO', 'CICLOMOTOR'])]\n",
    "ocorrencias_tipo01 = veiculos_df03['descricao_especie'].value_counts()\n",
    "print(ocorrencias_tipo01)"
   ]
  },
  {
   "cell_type": "code",
   "execution_count": 8,
   "id": "bbbc0b84",
   "metadata": {},
   "outputs": [
    {
     "name": "stdout",
     "output_type": "stream",
     "text": [
      "               Nº_boletim descricao_especie\n",
      "0      2017-012295590-001       MOTOCICLETA\n",
      "1      2017-012295590-001         AUTOMOVEL\n",
      "2      2017-012298672-001       MOTOCICLETA\n",
      "3      2017-012298672-001         AUTOMOVEL\n",
      "4      2017-012299194-001       MOTOCICLETA\n",
      "...                   ...               ...\n",
      "24462  2019-061812147-001         AUTOMOVEL\n",
      "24463  2019-032033144-001         AUTOMOVEL\n",
      "24464  2019-006114270-001            ONIBUS\n",
      "24465  2019-057581385-001          CAMINHAO\n",
      "24466  2019-008607877-001         AUTOMOVEL\n",
      "\n",
      "[66745 rows x 2 columns]\n"
     ]
    }
   ],
   "source": [
    "# Reclassificando os veículos em BICICLETA, MOTOCICLETA, AUTOMOVEL, ONIBUS e CAMINHAO\n",
    "veiculos_df04 = veiculos_df03.copy()\n",
    "veiculos_df04.loc[:,'descricao_especie']  = veiculos_df04['descricao_especie'].replace({\n",
    "    'MOTONETA' : 'MOTOCICLETA',\n",
    "    'CAMIONETA' : 'AUTOMOVEL',\n",
    "    'CAMINHONETE' : 'AUTOMOVEL',\n",
    "    'CAMINHAO-TRATOR' : 'CAMINHAO',\n",
    "    'MICROONIBUS' : 'ONIBUS'\n",
    "})\n",
    "print(veiculos_df04)"
   ]
  },
  {
   "cell_type": "code",
   "execution_count": 9,
   "id": "ef6ee747",
   "metadata": {},
   "outputs": [
    {
     "name": "stdout",
     "output_type": "stream",
     "text": [
      "               Nº_boletim descricao_especie  BICICLETA  MOTOCICLETA  \\\n",
      "0      2017-012295590-001       MOTOCICLETA          0            1   \n",
      "1      2017-012295590-001         AUTOMOVEL          0            0   \n",
      "2      2017-012298672-001       MOTOCICLETA          0            1   \n",
      "3      2017-012298672-001         AUTOMOVEL          0            0   \n",
      "4      2017-012299194-001       MOTOCICLETA          0            1   \n",
      "...                   ...               ...        ...          ...   \n",
      "24462  2019-061812147-001         AUTOMOVEL          0            0   \n",
      "24463  2019-032033144-001         AUTOMOVEL          0            0   \n",
      "24464  2019-006114270-001            ONIBUS          0            0   \n",
      "24465  2019-057581385-001          CAMINHAO          0            0   \n",
      "24466  2019-008607877-001         AUTOMOVEL          0            0   \n",
      "\n",
      "       AUTOMOVEL  CAMINHAO  ONIBUS  \n",
      "0              0         0       0  \n",
      "1              1         0       0  \n",
      "2              0         0       0  \n",
      "3              1         0       0  \n",
      "4              0         0       0  \n",
      "...          ...       ...     ...  \n",
      "24462          1         0       0  \n",
      "24463          1         0       0  \n",
      "24464          0         0       1  \n",
      "24465          0         1       0  \n",
      "24466          1         0       0  \n",
      "\n",
      "[66745 rows x 7 columns]\n"
     ]
    }
   ],
   "source": [
    "# Criando colunas por tipo de veículos\n",
    "veiculos_df05 = veiculos_df04.copy()\n",
    "veiculos_df05['BICICLETA']=np.where(veiculos_df05['descricao_especie']=='BICICLETA',1,0)\n",
    "veiculos_df05['MOTOCICLETA']=np.where(veiculos_df05['descricao_especie']=='MOTOCICLETA',1,0)\n",
    "veiculos_df05['AUTOMOVEL']=np.where(veiculos_df05['descricao_especie']=='AUTOMOVEL',1,0)\n",
    "veiculos_df05['CAMINHAO']=np.where(veiculos_df05['descricao_especie']=='CAMINHAO',1,0)\n",
    "veiculos_df05['ONIBUS']=np.where(veiculos_df05['descricao_especie']=='ONIBUS',1,0)\n",
    "print(veiculos_df05)"
   ]
  },
  {
   "cell_type": "code",
   "execution_count": 10,
   "id": "cc773f0d",
   "metadata": {},
   "outputs": [
    {
     "name": "stdout",
     "output_type": "stream",
     "text": [
      "           NUMERO_BOLETIM  BICICLETA  MOTOCICLETA  AUTOMOVEL  CAMINHAO  ONIBUS\n",
      "0      2017-012295590-001          0            1          0         0       0\n",
      "1      2017-012295590-001          0            0          1         0       0\n",
      "2      2017-012298672-001          0            1          0         0       0\n",
      "3      2017-012298672-001          0            0          1         0       0\n",
      "4      2017-012299194-001          0            1          0         0       0\n",
      "...                   ...        ...          ...        ...       ...     ...\n",
      "24462  2019-061812147-001          0            0          1         0       0\n",
      "24463  2019-032033144-001          0            0          1         0       0\n",
      "24464  2019-006114270-001          0            0          0         0       1\n",
      "24465  2019-057581385-001          0            0          0         1       0\n",
      "24466  2019-008607877-001          0            0          1         0       0\n",
      "\n",
      "[66745 rows x 6 columns]\n"
     ]
    }
   ],
   "source": [
    "# Excluindo a coluna descricao _especie\n",
    "veiculos_df06 = veiculos_df05.drop(columns=['descricao_especie'])\n",
    "veiculos_df06 = veiculos_df06.rename(columns={'Nº_boletim': 'NUMERO_BOLETIM'})\n",
    "print(veiculos_df06)"
   ]
  },
  {
   "cell_type": "code",
   "execution_count": 11,
   "id": "37ca093b",
   "metadata": {},
   "outputs": [
    {
     "name": "stdout",
     "output_type": "stream",
     "text": [
      "           NUMERO_BOLETIM  BICICLETA  MOTOCICLETA  AUTOMOVEL  CAMINHAO  ONIBUS\n",
      "0      2017-000002733-001          0            2          0         0       0\n",
      "1      2017-000015078-001          0            0          1         0       0\n",
      "2      2017-000015654-001          0            1          1         0       0\n",
      "3      2017-000016477-001          0            1          0         0       0\n",
      "4      2017-000020133-001          0            0          1         0       0\n",
      "...                   ...        ...          ...        ...       ...     ...\n",
      "37124  2020-012578761-001          0            1          0         0       0\n",
      "37125  2020-012581709-001          0            1          1         0       0\n",
      "37126  2020-013714143-001          0            1          0         0       0\n",
      "37127  2020-016593364-001          0            0          0         1       0\n",
      "37128  2020-016807193-001          0            1          1         0       0\n",
      "\n",
      "[37129 rows x 6 columns]\n"
     ]
    }
   ],
   "source": [
    "# Agrupando pelo Numero do boletim\n",
    "veiculos_df07=veiculos_df06.copy()\n",
    "veiculos_df07=veiculos_df07.groupby('NUMERO_BOLETIM', as_index=False).sum()\n",
    "print(veiculos_df07)"
   ]
  },
  {
   "cell_type": "code",
   "execution_count": 12,
   "id": "73f3543e",
   "metadata": {},
   "outputs": [],
   "source": [
    "veiculos_df07.to_excel('Base_Veículos.xlsx', index=False)"
   ]
  },
  {
   "cell_type": "code",
   "execution_count": null,
   "id": "8910823c",
   "metadata": {},
   "outputs": [],
   "source": []
  }
 ],
 "metadata": {
  "kernelspec": {
   "display_name": "Python 3 (ipykernel)",
   "language": "python",
   "name": "python3"
  },
  "language_info": {
   "codemirror_mode": {
    "name": "ipython",
    "version": 3
   },
   "file_extension": ".py",
   "mimetype": "text/x-python",
   "name": "python",
   "nbconvert_exporter": "python",
   "pygments_lexer": "ipython3",
   "version": "3.9.7"
  }
 },
 "nbformat": 4,
 "nbformat_minor": 5
}
