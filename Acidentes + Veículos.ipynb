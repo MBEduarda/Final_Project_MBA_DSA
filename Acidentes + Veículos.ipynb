{
 "cells": [
  {
   "cell_type": "markdown",
   "id": "bd40d8f3",
   "metadata": {},
   "source": [
    "## Unindo os dados de Acidentes e Veículos"
   ]
  },
  {
   "cell_type": "code",
   "execution_count": 7,
   "id": "3d7e43e3",
   "metadata": {},
   "outputs": [],
   "source": [
    "# Carregando as bibliotecas\n",
    "import pandas as pd\n"
   ]
  },
  {
   "cell_type": "code",
   "execution_count": 8,
   "id": "9f81bef1",
   "metadata": {},
   "outputs": [
    {
     "name": "stdout",
     "output_type": "stream",
     "text": [
      "          NUMERO_BOLETIM   DATA HORA_BOLETIM                   COORDENADA  \\\n",
      "0     2017-034438990-001 2017-11-11 17:38:00  -19.920010348,-43.940256854   \n",
      "1     2017-034512721-001 2017-11-12 09:29:00  -19.917797895,-43.930673168   \n",
      "2     2017-035699720-001 2017-11-20 09:43:00  -19.917583385,-43.934223834   \n",
      "3     2017-035769564-001 2017-11-20 17:31:00  -19.921013321,-43.944665907   \n",
      "4     2017-035778537-001 2017-11-20 17:07:00  -19.917302950,-43.935374903   \n",
      "...                  ...                 ...                          ...   \n",
      "1629  2019-055674489-001 2019-11-12 17:03:00  -19.916618722,-43.943470312   \n",
      "1630  2019-055802785-001 2019-11-13 10:39:00  -19.914757805,-43.934664832   \n",
      "1631  2019-055876803-001 2019-11-13 17:35:00  -19.914836098,-43.941116930   \n",
      "1632  2019-038564310-001 2019-08-11 20:47:00  -19.916010873,-43.940565520   \n",
      "1633  2019-038763333-001 2019-08-12 18:46:00  -19.913434377,-43.942356819   \n",
      "\n",
      "      MÊS  HORA  \n",
      "0      11    17  \n",
      "1      11     9  \n",
      "2      11     9  \n",
      "3      11    17  \n",
      "4      11    17  \n",
      "...   ...   ...  \n",
      "1629   11    17  \n",
      "1630   11    10  \n",
      "1631   11    17  \n",
      "1632    8    20  \n",
      "1633    8    18  \n",
      "\n",
      "[1634 rows x 5 columns]\n"
     ]
    }
   ],
   "source": [
    "# Lendo a Base de acidentes\n",
    "Base_Acidentes=pd.read_excel('Base_Acidentes.xlsx')\n",
    "Base_Acidentes= Base_Acidentes.rename(columns=lambda x: x.strip() if isinstance(x, str) else x)\n",
    "print(Base_Acidentes)"
   ]
  },
  {
   "cell_type": "code",
   "execution_count": 9,
   "id": "8cea002d",
   "metadata": {},
   "outputs": [
    {
     "name": "stdout",
     "output_type": "stream",
     "text": [
      "          NUMERO_BOLETIM                   COORDENADA  MÊS  HORA        DATA\n",
      "0     2017-034438990-001  -19.920010348,-43.940256854   11    17  2017-11-11\n",
      "1     2017-034512721-001  -19.917797895,-43.930673168   11     9  2017-11-12\n",
      "2     2017-035699720-001  -19.917583385,-43.934223834   11     9  2017-11-20\n",
      "3     2017-035769564-001  -19.921013321,-43.944665907   11    17  2017-11-20\n",
      "4     2017-035778537-001  -19.917302950,-43.935374903   11    17  2017-11-20\n",
      "...                  ...                          ...  ...   ...         ...\n",
      "1629  2019-055674489-001  -19.916618722,-43.943470312   11    17  2019-11-12\n",
      "1630  2019-055802785-001  -19.914757805,-43.934664832   11    10  2019-11-13\n",
      "1631  2019-055876803-001  -19.914836098,-43.941116930   11    17  2019-11-13\n",
      "1632  2019-038564310-001  -19.916010873,-43.940565520    8    20  2019-08-11\n",
      "1633  2019-038763333-001  -19.913434377,-43.942356819    8    18  2019-08-12\n",
      "\n",
      "[1634 rows x 5 columns]\n"
     ]
    }
   ],
   "source": [
    "# Criando uma coluna data na Base de Acidentes\n",
    "Base_Acidentes['DATA'] = pd.to_datetime(Base_Acidentes['DATA HORA_BOLETIM']).dt.date\n",
    "Base_Acidentes=Base_Acidentes.drop(columns=['DATA HORA_BOLETIM'])\n",
    "print(Base_Acidentes)"
   ]
  },
  {
   "cell_type": "code",
   "execution_count": 10,
   "id": "ff1a4ad4",
   "metadata": {},
   "outputs": [
    {
     "data": {
      "text/plain": [
       "Index(['NUMERO_BOLETIM', 'BICICLETA', 'MOTOCICLETA', 'AUTOMOVEL', 'CAMINHAO',\n",
       "       'ONIBUS'],\n",
       "      dtype='object')"
      ]
     },
     "execution_count": 10,
     "metadata": {},
     "output_type": "execute_result"
    }
   ],
   "source": [
    "# Lendo a Base de veículos\n",
    "Base_Veículos=pd.read_excel('Base_Veículos.xlsx')\n",
    "Base_Veículos.columns"
   ]
  },
  {
   "cell_type": "code",
   "execution_count": 11,
   "id": "c8ab6cba",
   "metadata": {},
   "outputs": [
    {
     "name": "stdout",
     "output_type": "stream",
     "text": [
      "          NUMERO_BOLETIM                   COORDENADA  MÊS  HORA        DATA  \\\n",
      "0     2017-034438990-001  -19.920010348,-43.940256854   11    17  2017-11-11   \n",
      "1     2017-034512721-001  -19.917797895,-43.930673168   11     9  2017-11-12   \n",
      "2     2017-035699720-001  -19.917583385,-43.934223834   11     9  2017-11-20   \n",
      "3     2017-035769564-001  -19.921013321,-43.944665907   11    17  2017-11-20   \n",
      "4     2017-035778537-001  -19.917302950,-43.935374903   11    17  2017-11-20   \n",
      "...                  ...                          ...  ...   ...         ...   \n",
      "1622  2019-055674489-001  -19.916618722,-43.943470312   11    17  2019-11-12   \n",
      "1623  2019-055802785-001  -19.914757805,-43.934664832   11    10  2019-11-13   \n",
      "1624  2019-055876803-001  -19.914836098,-43.941116930   11    17  2019-11-13   \n",
      "1625  2019-038564310-001  -19.916010873,-43.940565520    8    20  2019-08-11   \n",
      "1626  2019-038763333-001  -19.913434377,-43.942356819    8    18  2019-08-12   \n",
      "\n",
      "      BICICLETA  MOTOCICLETA  AUTOMOVEL  CAMINHAO  ONIBUS  \n",
      "0             0            0          1         0       0  \n",
      "1             0            0          2         0       0  \n",
      "2             0            0          0         0       1  \n",
      "3             0            1          1         0       0  \n",
      "4             0            1          1         0       0  \n",
      "...         ...          ...        ...       ...     ...  \n",
      "1622          0            0          0         0       1  \n",
      "1623          0            1          1         0       0  \n",
      "1624          0            0          0         0       1  \n",
      "1625          0            0          1         0       0  \n",
      "1626          0            1          1         0       0  \n",
      "\n",
      "[1627 rows x 10 columns]\n"
     ]
    }
   ],
   "source": [
    "# Mesclando os Data Frames\n",
    "Base_Acd_Vec = pd.merge(Base_Acidentes, Base_Veículos, on ='NUMERO_BOLETIM', how='inner')\n",
    "\n",
    "# A interseção irá retornar apenas as ocorrências no Centro em que os veículos envolvidos estão entre as categorias definidas\n",
    "print(Base_Acd_Vec)"
   ]
  },
  {
   "cell_type": "code",
   "execution_count": 12,
   "id": "f6de4a84",
   "metadata": {},
   "outputs": [],
   "source": [
    "Base_Acd_Vec.to_excel('Base_Acd_Vec.xlsx')"
   ]
  }
 ],
 "metadata": {
  "kernelspec": {
   "display_name": "Python 3 (ipykernel)",
   "language": "python",
   "name": "python3"
  },
  "language_info": {
   "codemirror_mode": {
    "name": "ipython",
    "version": 3
   },
   "file_extension": ".py",
   "mimetype": "text/x-python",
   "name": "python",
   "nbconvert_exporter": "python",
   "pygments_lexer": "ipython3",
   "version": "3.9.7"
  }
 },
 "nbformat": 4,
 "nbformat_minor": 5
}
