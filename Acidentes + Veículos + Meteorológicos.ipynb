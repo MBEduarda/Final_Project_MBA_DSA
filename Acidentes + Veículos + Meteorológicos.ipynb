{
 "cells": [
  {
   "cell_type": "markdown",
   "id": "383a44c2",
   "metadata": {},
   "source": [
    "## Unindo os dados de Acidentes e Veículos com os dados Metereológicos"
   ]
  },
  {
   "cell_type": "code",
   "execution_count": 7,
   "id": "0f651952",
   "metadata": {},
   "outputs": [],
   "source": [
    "# Carregando as bibliotecas\n",
    "import pandas as pd"
   ]
  },
  {
   "cell_type": "code",
   "execution_count": 8,
   "id": "1a47da28",
   "metadata": {},
   "outputs": [
    {
     "name": "stdout",
     "output_type": "stream",
     "text": [
      "      Unnamed: 0      NUMERO_BOLETIM                   COORDENADA  MÊS  HORA  \\\n",
      "0              0  2017-034438990-001  -19.920010348,-43.940256854   11    17   \n",
      "1              1  2017-034512721-001  -19.917797895,-43.930673168   11     9   \n",
      "2              2  2017-035699720-001  -19.917583385,-43.934223834   11     9   \n",
      "3              3  2017-035769564-001  -19.921013321,-43.944665907   11    17   \n",
      "4              4  2017-035778537-001  -19.917302950,-43.935374903   11    17   \n",
      "...          ...                 ...                          ...  ...   ...   \n",
      "1622        1622  2019-055674489-001  -19.916618722,-43.943470312   11    17   \n",
      "1623        1623  2019-055802785-001  -19.914757805,-43.934664832   11    10   \n",
      "1624        1624  2019-055876803-001  -19.914836098,-43.941116930   11    17   \n",
      "1625        1625  2019-038564310-001  -19.916010873,-43.940565520    8    20   \n",
      "1626        1626  2019-038763333-001  -19.913434377,-43.942356819    8    18   \n",
      "\n",
      "           DATA  BICICLETA  MOTOCICLETA  AUTOMOVEL  CAMINHAO  ONIBUS  \n",
      "0    2017-11-11          0            0          1         0       0  \n",
      "1    2017-11-12          0            0          2         0       0  \n",
      "2    2017-11-20          0            0          0         0       1  \n",
      "3    2017-11-20          0            1          1         0       0  \n",
      "4    2017-11-20          0            1          1         0       0  \n",
      "...         ...        ...          ...        ...       ...     ...  \n",
      "1622 2019-11-12          0            0          0         0       1  \n",
      "1623 2019-11-13          0            1          1         0       0  \n",
      "1624 2019-11-13          0            0          0         0       1  \n",
      "1625 2019-08-11          0            0          1         0       0  \n",
      "1626 2019-08-12          0            1          1         0       0  \n",
      "\n",
      "[1627 rows x 11 columns]\n"
     ]
    }
   ],
   "source": [
    "# Lendo a Base de Acidentes e Veículos\n",
    "Base_Acd_Vec = pd.read_excel('Base_Acd_Vec.xlsx')\n",
    "print(Base_Acd_Vec)"
   ]
  },
  {
   "cell_type": "code",
   "execution_count": 9,
   "id": "e688a323",
   "metadata": {},
   "outputs": [
    {
     "name": "stdout",
     "output_type": "stream",
     "text": [
      "       Unnamed: 0        DATA CHUVA (mm)  HORA\n",
      "0               0  01/01/2017        0,0    21\n",
      "1               1  01/01/2017        0,0    22\n",
      "2               2  01/01/2017        0,0    23\n",
      "3               3  01/01/2017        0,0     0\n",
      "4               4  01/01/2017        0,0     1\n",
      "...           ...         ...        ...   ...\n",
      "26275        8755  31/12/2019        0,0    16\n",
      "26276        8756  31/12/2019        0,0    17\n",
      "26277        8757  31/12/2019        0,0    18\n",
      "26278        8758  31/12/2019        0,0    19\n",
      "26279        8759  31/12/2019        0,0    20\n",
      "\n",
      "[26280 rows x 4 columns]\n"
     ]
    }
   ],
   "source": [
    "# Lendo a Base dos dados Metereológicos\n",
    "Base_Metereológicos=pd.read_excel('Base_Metereológicos.xlsx')\n",
    "print(Base_Metereológicos)"
   ]
  },
  {
   "cell_type": "code",
   "execution_count": 10,
   "id": "b531878d",
   "metadata": {},
   "outputs": [
    {
     "name": "stdout",
     "output_type": "stream",
     "text": [
      "            DATA CHUVA (mm)  HORA\n",
      "0     2017-01-01        0,0    21\n",
      "1     2017-01-01        0,0    22\n",
      "2     2017-01-01        0,0    23\n",
      "3     2017-01-01        0,0     0\n",
      "4     2017-01-01        0,0     1\n",
      "...          ...        ...   ...\n",
      "26275 2019-12-31        0,0    16\n",
      "26276 2019-12-31        0,0    17\n",
      "26277 2019-12-31        0,0    18\n",
      "26278 2019-12-31        0,0    19\n",
      "26279 2019-12-31        0,0    20\n",
      "\n",
      "[26280 rows x 3 columns]\n"
     ]
    }
   ],
   "source": [
    "# Organizando o data frame da Base de dados Metereológicos\n",
    "Base_Metereológicos = Base_Metereológicos.drop(columns=['Unnamed: 0'])\n",
    "Base_Metereológicos['DATA'] = pd.to_datetime(Base_Metereológicos['DATA'], format='%d/%m/%Y')\n",
    "print(Base_Metereológicos)"
   ]
  },
  {
   "cell_type": "code",
   "execution_count": 11,
   "id": "e91a3299",
   "metadata": {},
   "outputs": [
    {
     "name": "stdout",
     "output_type": "stream",
     "text": [
      "      Unnamed: 0      NUMERO_BOLETIM                   COORDENADA  MÊS  HORA  \\\n",
      "0              0  2017-034438990-001  -19.920010348,-43.940256854   11    17   \n",
      "1              1  2017-034512721-001  -19.917797895,-43.930673168   11     9   \n",
      "2              2  2017-035699720-001  -19.917583385,-43.934223834   11     9   \n",
      "3              3  2017-035769564-001  -19.921013321,-43.944665907   11    17   \n",
      "4              4  2017-035778537-001  -19.917302950,-43.935374903   11    17   \n",
      "...          ...                 ...                          ...  ...   ...   \n",
      "1622        1621  2019-055538489-001  -19.915230923,-43.940353471   11     0   \n",
      "1623        1622  2019-055674489-001  -19.916618722,-43.943470312   11    17   \n",
      "1624        1623  2019-055802785-001  -19.914757805,-43.934664832   11    10   \n",
      "1625        1624  2019-055876803-001  -19.914836098,-43.941116930   11    17   \n",
      "1626        1625  2019-038564310-001  -19.916010873,-43.940565520    8    20   \n",
      "\n",
      "           DATA  BICICLETA  MOTOCICLETA  AUTOMOVEL  CAMINHAO  ONIBUS  \\\n",
      "0    2017-11-11          0            0          1         0       0   \n",
      "1    2017-11-12          0            0          2         0       0   \n",
      "2    2017-11-20          0            0          0         0       1   \n",
      "3    2017-11-20          0            1          1         0       0   \n",
      "4    2017-11-20          0            1          1         0       0   \n",
      "...         ...        ...          ...        ...       ...     ...   \n",
      "1622 2019-11-12          0            2          0         0       0   \n",
      "1623 2019-11-12          0            0          0         0       1   \n",
      "1624 2019-11-13          0            1          1         0       0   \n",
      "1625 2019-11-13          0            0          0         0       1   \n",
      "1626 2019-08-11          0            0          1         0       0   \n",
      "\n",
      "     CHUVA (mm)  \n",
      "0           0,0  \n",
      "1           0,0  \n",
      "2           0,0  \n",
      "3           0,0  \n",
      "4           0,0  \n",
      "...         ...  \n",
      "1622        0,0  \n",
      "1623        0,0  \n",
      "1624        0,0  \n",
      "1625        0,0  \n",
      "1626        0,0  \n",
      "\n",
      "[1627 rows x 12 columns]\n"
     ]
    }
   ],
   "source": [
    "# Mesclando os dois data frames \n",
    "Base_Acd_Vec_Met = pd.merge(Base_Acd_Vec, Base_Metereológicos, on=['DATA', 'HORA'], how='inner')\n",
    "print(Base_Acd_Vec_Met)"
   ]
  },
  {
   "cell_type": "code",
   "execution_count": 12,
   "id": "cf6dc298",
   "metadata": {},
   "outputs": [],
   "source": [
    "# Eliminando a coluna unnamed \n",
    "Base_Acd_Vec_Met=Base_Acd_Vec_Met.drop(columns=['Unnamed: 0'])"
   ]
  },
  {
   "cell_type": "code",
   "execution_count": 13,
   "id": "60c65b2d",
   "metadata": {},
   "outputs": [
    {
     "name": "stdout",
     "output_type": "stream",
     "text": [
      "          NUMERO_BOLETIM                   COORDENADA  MÊS  HORA       DATA  \\\n",
      "0     2017-034438990-001  -19.920010348,-43.940256854   11    17 2017-11-11   \n",
      "1     2017-034512721-001  -19.917797895,-43.930673168   11     9 2017-11-12   \n",
      "2     2017-035699720-001  -19.917583385,-43.934223834   11     9 2017-11-20   \n",
      "3     2017-035769564-001  -19.921013321,-43.944665907   11    17 2017-11-20   \n",
      "4     2017-035778537-001  -19.917302950,-43.935374903   11    17 2017-11-20   \n",
      "...                  ...                          ...  ...   ...        ...   \n",
      "1622  2019-055538489-001  -19.915230923,-43.940353471   11     0 2019-11-12   \n",
      "1623  2019-055674489-001  -19.916618722,-43.943470312   11    17 2019-11-12   \n",
      "1624  2019-055802785-001  -19.914757805,-43.934664832   11    10 2019-11-13   \n",
      "1625  2019-055876803-001  -19.914836098,-43.941116930   11    17 2019-11-13   \n",
      "1626  2019-038564310-001  -19.916010873,-43.940565520    8    20 2019-08-11   \n",
      "\n",
      "      BICICLETA  MOTOCICLETA  AUTOMOVEL  CAMINHAO  ONIBUS CHUVA (mm)  \\\n",
      "0             0            0          1         0       0        0,0   \n",
      "1             0            0          2         0       0        0,0   \n",
      "2             0            0          0         0       1        0,0   \n",
      "3             0            1          1         0       0        0,0   \n",
      "4             0            1          1         0       0        0,0   \n",
      "...         ...          ...        ...       ...     ...        ...   \n",
      "1622          0            2          0         0       0        0,0   \n",
      "1623          0            0          0         0       1        0,0   \n",
      "1624          0            1          1         0       0        0,0   \n",
      "1625          0            0          0         0       1        0,0   \n",
      "1626          0            0          1         0       0        0,0   \n",
      "\n",
      "       LATITUDE  LONGITUDE  \n",
      "0    -19.920010 -43.940257  \n",
      "1    -19.917798 -43.930673  \n",
      "2    -19.917583 -43.934224  \n",
      "3    -19.921013 -43.944666  \n",
      "4    -19.917303 -43.935375  \n",
      "...         ...        ...  \n",
      "1622 -19.915231 -43.940353  \n",
      "1623 -19.916619 -43.943470  \n",
      "1624 -19.914758 -43.934665  \n",
      "1625 -19.914836 -43.941117  \n",
      "1626 -19.916011 -43.940566  \n",
      "\n",
      "[1627 rows x 13 columns]\n"
     ]
    }
   ],
   "source": [
    "# Dividindo a coluna de coordenadas em LAT e LONG\n",
    "Base_Acd_Vec_Met['LATITUDE'] = Base_Acd_Vec_Met['COORDENADA'].apply(lambda x: float(x.split(',')[0]))\n",
    "Base_Acd_Vec_Met['LONGITUDE'] = Base_Acd_Vec_Met['COORDENADA'].apply(lambda x: float(x.split(',')[1]))\n",
    "print(Base_Acd_Vec_Met)\n"
   ]
  },
  {
   "cell_type": "code",
   "execution_count": 14,
   "id": "1cd25f10",
   "metadata": {},
   "outputs": [],
   "source": [
    "# Exportando a base final\n",
    "Base_Acd_Vec_Met.to_excel('Base_Acd_Vec_Met.xlsx')"
   ]
  }
 ],
 "metadata": {
  "kernelspec": {
   "display_name": "Python 3 (ipykernel)",
   "language": "python",
   "name": "python3"
  },
  "language_info": {
   "codemirror_mode": {
    "name": "ipython",
    "version": 3
   },
   "file_extension": ".py",
   "mimetype": "text/x-python",
   "name": "python",
   "nbconvert_exporter": "python",
   "pygments_lexer": "ipython3",
   "version": "3.9.7"
  }
 },
 "nbformat": 4,
 "nbformat_minor": 5
}
