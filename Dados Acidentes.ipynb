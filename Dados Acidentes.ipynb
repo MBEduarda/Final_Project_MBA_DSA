{
 "cells": [
  {
   "cell_type": "markdown",
   "id": "bd40d8f3",
   "metadata": {},
   "source": [
    "## Limpeza dos dados de Acidentes"
   ]
  },
  {
   "cell_type": "code",
   "execution_count": 2,
   "id": "3d7e43e3",
   "metadata": {},
   "outputs": [],
   "source": [
    "# Carregando as bibliotecas\n",
    "import pandas as pd\n",
    "import chardet as chd\n",
    "import requests"
   ]
  },
 {
   "cell_type": "code",
   "execution_count": 3,
   "id": "7e92f62a",
   "metadata": {},
   "outputs": [],
   "source": [
    "# Lendo os arquivos\n",
    "acidentes_2017 = pd.read_csv('si-bol-2017.csv', sep=\";\", header=0, encoding='ISO-8859-1')\n",
    "acidentes_2018 = pd.read_csv('si-bol-2018.csv', sep=\";\", header=0, encoding='ISO-8859-1')\n",
    "acidentes_2019 = pd.read_csv('si-bol-2019.csv', sep=\";\", header=0, encoding='ISO-8859-1')"
   ]
  },
  {
   "cell_type": "code",
   "execution_count": 4,
   "id": "96dad48a",
   "metadata": {},
   "outputs": [
    {
     "name": "stdout",
     "output_type": "stream",
     "text": [
      "           NUMERO_BOLETIM  DATA HORA_BOLETIM     DATA_INCLUSAO  TIPO_ACIDENTE  \\\n",
      "0      2017-034368071-001   11/11/2017 00:46  11/11/2017 02:05         H09002   \n",
      "1      2017-034377690-001   10/11/2017 23:16  11/11/2017 05:08         H01002   \n",
      "2      2017-034384319-001   11/11/2017 05:43  11/11/2017 07:59         H02002   \n",
      "3      2017-034385790-001   11/11/2017 06:48  11/11/2017 08:33         H08002   \n",
      "4      2017-034387460-001   09/11/2017 07:15  11/11/2017 09:08         H02002   \n",
      "...                   ...                ...               ...            ...   \n",
      "13337  2019-038759034-001   12/08/2019 19:07  12/08/2019 19:33         H01002   \n",
      "13338  2019-038762536-001   12/08/2019 18:39  12/08/2019 19:55         H01002   \n",
      "13339  2019-038763333-001   12/08/2019 18:46  12/08/2019 19:59         H01002   \n",
      "13340  2019-038765163-001   12/08/2019 19:38  12/08/2019 20:10         H01002   \n",
      "13341  2019-038769070-001   12/08/2019 18:25  12/08/2019 20:35         H09002   \n",
      "\n",
      "                                      DESC_TIPO_ACIDENTE   COD_TEMPO  \\\n",
      "0      COLISAO DE VEICULOS COM VITIMA                ...           1   \n",
      "1      ABALROAMENTO COM VITIMA                       ...           0   \n",
      "2      CAPOTAMENTO/TOMBAMENTO COM VITIMA             ...           2   \n",
      "3      CHOQUE MECANICO COM VITIMA                    ...           2   \n",
      "4      CAPOTAMENTO/TOMBAMENTO COM VITIMA             ...           0   \n",
      "...                                                  ...         ...   \n",
      "13337  ABALROAMENTO COM VITIMA                       ...           1   \n",
      "13338  ABALROAMENTO COM VITIMA                       ...           0   \n",
      "13339  ABALROAMENTO COM VITIMA                       ...           1   \n",
      "13340  ABALROAMENTO COM VITIMA                       ...           1   \n",
      "13341  COLISAO DE VEICULOS COM VITIMA                ...           1   \n",
      "\n",
      "            DESC_TEMPO   COD_PAVIMENTO        PAVIMENTO   COD_REGIONAL  ...  \\\n",
      "0      BOM                           1  ASFALTO                     18  ...   \n",
      "1      NAO INFORMADO                 0  NAO INFORMADO               25  ...   \n",
      "2      CHUVA                         1  ASFALTO                     25  ...   \n",
      "3      CHUVA                         1  ASFALTO                     21  ...   \n",
      "4      NAO INFORMADO                 0  NAO INFORMADO               24  ...   \n",
      "...                ...             ...              ...            ...  ...   \n",
      "13337  BOM                           1  ASFALTO                     20  ...   \n",
      "13338  NAO INFORMADO                 0  NAO INFORMADO               23  ...   \n",
      "13339  BOM                           1  ASFALTO                     19  ...   \n",
      "13340  BOM                           1  ASFALTO                     22  ...   \n",
      "13341  BOM                           1  ASFALTO                     21  ...   \n",
      "\n",
      "       VELOCIDADE_PERMITIDA  COORDENADA_X  COORDENADA_Y   HORA_INFORMADA  \\\n",
      "0                         0     603468.30    7790499.36              SIM   \n",
      "1                         0     609063.07    7804206.30              SIM   \n",
      "2                         0          0.00          0.00              SIM   \n",
      "3                         0     612240.60    7802504.66              SIM   \n",
      "4                         0     602946.29    7795800.43              SIM   \n",
      "...                     ...           ...           ...              ...   \n",
      "13337                     0     614743.06    7797338.56              SIM   \n",
      "13338                     0     609049.09    7807320.80              SIM   \n",
      "13339                     0     610700.22    7797749.97              SIM   \n",
      "13340                     0     606476.01    7797900.13              SIM   \n",
      "13341                     0     612413.33    7800564.10              SIM   \n",
      "\n",
      "        INDICADOR_FATALIDADE   VALOR_UPS  DESCRIÇÃO_UPS  DATA_ALTERACAO_SMSA  \\\n",
      "0                        NÃO           0  NÃO INFORMADO           00/00/0000   \n",
      "1                        NÃO           0  NÃO INFORMADO           00/00/0000   \n",
      "2                        NÃO           0  NÃO INFORMADO           00/00/0000   \n",
      "3                        NÃO           0  NÃO INFORMADO           00/00/0000   \n",
      "4                        NÃO           0  NÃO INFORMADO           00/00/0000   \n",
      "...                      ...         ...            ...                  ...   \n",
      "13337                    NÃO           0  NÃO INFORMADO           00/00/0000   \n",
      "13338                    NÃO           0  NÃO INFORMADO           00/00/0000   \n",
      "13339                    NÃO           0  NÃO INFORMADO           00/00/0000   \n",
      "13340                    NÃO           0  NÃO INFORMADO           00/00/0000   \n",
      "13341                    NÃO           0  NÃO INFORMADO           00/00/0000   \n",
      "\n",
      "        VALOR_UPS_ANTIGA  DESCRIÇÃO_UPS_ANTIGA  \n",
      "0                      0         NÃO INFORMADO  \n",
      "1                      0         NÃO INFORMADO  \n",
      "2                      0         NÃO INFORMADO  \n",
      "3                      0         NÃO INFORMADO  \n",
      "4                      0         NÃO INFORMADO  \n",
      "...                  ...                   ...  \n",
      "13337                  0         NÃO INFORMADO  \n",
      "13338                  0         NÃO INFORMADO  \n",
      "13339                  0         NÃO INFORMADO  \n",
      "13340                  0         NÃO INFORMADO  \n",
      "13341                  0         NÃO INFORMADO  \n",
      "\n",
      "[37241 rows x 23 columns]\n"
     ]
    }
   ],
   "source": [
    "# Concatenando todos os arquivos em um único data frame\n",
    "acidentes_df = pd.concat([acidentes_2017,acidentes_2018,acidentes_2019])\n",
    "print(acidentes_df)"
   ]
  },
  {
   "cell_type": "code",
   "execution_count": 5,
   "id": "2b0e8e5b",
   "metadata": {},
   "outputs": [
    {
     "data": {
      "text/plain": [
       "Index([' NUMERO_BOLETIM', ' DATA HORA_BOLETIM', ' DATA_INCLUSAO',\n",
       "       ' TIPO_ACIDENTE', ' DESC_TIPO_ACIDENTE', ' COD_TEMPO', ' DESC_TEMPO',\n",
       "       ' COD_PAVIMENTO', ' PAVIMENTO', ' COD_REGIONAL', ' DESC_REGIONAL',\n",
       "       ' ORIGEM_BOLETIM', ' LOCAL_SINALIZADO', ' VELOCIDADE_PERMITIDA',\n",
       "       ' COORDENADA_X', ' COORDENADA_Y', ' HORA_INFORMADA',\n",
       "       ' INDICADOR_FATALIDADE', ' VALOR_UPS', ' DESCRIÇÃO_UPS',\n",
       "       ' DATA_ALTERACAO_SMSA', ' VALOR_UPS_ANTIGA', ' DESCRIÇÃO_UPS_ANTIGA'],\n",
       "      dtype='object')"
      ]
     },
     "execution_count": 5,
     "metadata": {},
     "output_type": "execute_result"
    }
   ],
   "source": [
    "acidentes_df.columns"
   ]
  },
  {
   "cell_type": "code",
   "execution_count": 6,
   "id": "a8a51e4d",
   "metadata": {},
   "outputs": [
    {
     "name": "stdout",
     "output_type": "stream",
     "text": [
      "           NUMERO_BOLETIM  DATA HORA_BOLETIM    DESC_REGIONAL   COORDENADA_X  \\\n",
      "0      2017-034368071-001   11/11/2017 00:46  BARREIRO             603468.30   \n",
      "1      2017-034377690-001   10/11/2017 23:16  PAMPULHA             609063.07   \n",
      "2      2017-034384319-001   11/11/2017 05:43  PAMPULHA                  0.00   \n",
      "3      2017-034385790-001   11/11/2017 06:48  NORDESTE             612240.60   \n",
      "4      2017-034387460-001   09/11/2017 07:15  OESTE                602946.29   \n",
      "...                   ...                ...              ...            ...   \n",
      "13337  2019-038759034-001   12/08/2019 19:07  LESTE                614743.06   \n",
      "13338  2019-038762536-001   12/08/2019 18:39  NORTE                609049.09   \n",
      "13339  2019-038763333-001   12/08/2019 18:46  CENTRO-SUL           610700.22   \n",
      "13340  2019-038765163-001   12/08/2019 19:38  NOROESTE             606476.01   \n",
      "13341  2019-038769070-001   12/08/2019 18:25  NORDESTE             612413.33   \n",
      "\n",
      "        COORDENADA_Y  \n",
      "0         7790499.36  \n",
      "1         7804206.30  \n",
      "2               0.00  \n",
      "3         7802504.66  \n",
      "4         7795800.43  \n",
      "...              ...  \n",
      "13337     7797338.56  \n",
      "13338     7807320.80  \n",
      "13339     7797749.97  \n",
      "13340     7797900.13  \n",
      "13341     7800564.10  \n",
      "\n",
      "[37241 rows x 5 columns]\n"
     ]
    }
   ],
   "source": [
    "# Selecionando apenas as colunas necessárias\n",
    "Colunas_desejadas = [' NUMERO_BOLETIM',' DATA HORA_BOLETIM',' DESC_REGIONAL',' COORDENADA_X', ' COORDENADA_Y']\n",
    "acidentes_df =acidentes_df.drop(columns = acidentes_df.columns.difference(Colunas_desejadas))\n",
    "print(acidentes_df)"
   ]
  },
  {
   "cell_type": "code",
   "execution_count": 7,
   "id": "bf1f0e7b",
   "metadata": {},
   "outputs": [
    {
     "name": "stdout",
     "output_type": "stream",
     "text": [
      "           NUMERO_BOLETIM  DATA HORA_BOLETIM    DESC_REGIONAL   COORDENADA_X  \\\n",
      "16     2017-034438990-001   11/11/2017 17:38  CENTRO-SUL           610915.45   \n",
      "23     2017-034462371-001   11/11/2017 19:59  CENTRO-SUL           611593.70   \n",
      "25     2017-034481430-001   11/11/2017 23:08  CENTRO-SUL           610421.22   \n",
      "26     2017-034484488-001   12/11/2017 00:23  CENTRO-SUL           611185.27   \n",
      "30     2017-034508281-001   12/11/2017 06:10  CENTRO-SUL           612466.15   \n",
      "...                   ...                ...              ...            ...   \n",
      "13306  2019-038569968-001   11/08/2019 21:25  CENTRO-SUL           612122.57   \n",
      "13307  2019-038575229-001   11/08/2019 21:38  CENTRO-SUL           613172.33   \n",
      "13316  2019-038662530-001   12/08/2019 11:26  CENTRO-SUL           609478.56   \n",
      "13331  2019-038730963-001   12/08/2019 16:04  CENTRO-SUL           612206.31   \n",
      "13339  2019-038763333-001   12/08/2019 18:46  CENTRO-SUL           610700.22   \n",
      "\n",
      "        COORDENADA_Y  \n",
      "16        7797020.80  \n",
      "23        7793620.35  \n",
      "25        7795702.51  \n",
      "26        7794773.50  \n",
      "30        7796317.55  \n",
      "...              ...  \n",
      "13306     7796118.00  \n",
      "13307     7794521.41  \n",
      "13316     7794933.29  \n",
      "13331     7794875.73  \n",
      "13339     7797749.97  \n",
      "\n",
      "[6483 rows x 5 columns]\n"
     ]
    }
   ],
   "source": [
    "# Identificando o valor buscado\n",
    "centrosul = acidentes_df.iloc[13338,2]\n",
    "\n",
    "# Selecionando apenas a regional \"CENTRO-SUL\"\n",
    "acidentes_df_filtrado = acidentes_df.loc[(acidentes_df[' DESC_REGIONAL'] == centrosul)]\n",
    "print (acidentes_df_filtrado)"
   ]
  },
  {
   "cell_type": "code",
   "execution_count": 8,
   "id": "cc30e114",
   "metadata": {},
   "outputs": [
    {
     "name": "stdout",
     "output_type": "stream",
     "text": [
      "           NUMERO_BOLETIM  DATA HORA_BOLETIM    DESC_REGIONAL   COORDENADA_X  \\\n",
      "16     2017-034438990-001   11/11/2017 17:38  CENTRO-SUL           610915.45   \n",
      "23     2017-034462371-001   11/11/2017 19:59  CENTRO-SUL           611593.70   \n",
      "25     2017-034481430-001   11/11/2017 23:08  CENTRO-SUL           610421.22   \n",
      "26     2017-034484488-001   12/11/2017 00:23  CENTRO-SUL           611185.27   \n",
      "30     2017-034508281-001   12/11/2017 06:10  CENTRO-SUL           612466.15   \n",
      "...                   ...                ...              ...            ...   \n",
      "13306  2019-038569968-001   11/08/2019 21:25  CENTRO-SUL           612122.57   \n",
      "13307  2019-038575229-001   11/08/2019 21:38  CENTRO-SUL           613172.33   \n",
      "13316  2019-038662530-001   12/08/2019 11:26  CENTRO-SUL           609478.56   \n",
      "13331  2019-038730963-001   12/08/2019 16:04  CENTRO-SUL           612206.31   \n",
      "13339  2019-038763333-001   12/08/2019 18:46  CENTRO-SUL           610700.22   \n",
      "\n",
      "        COORDENADA_Y  \n",
      "16        7797020.80  \n",
      "23        7793620.35  \n",
      "25        7795702.51  \n",
      "26        7794773.50  \n",
      "30        7796317.55  \n",
      "...              ...  \n",
      "13306     7796118.00  \n",
      "13307     7794521.41  \n",
      "13316     7794933.29  \n",
      "13331     7794875.73  \n",
      "13339     7797749.97  \n",
      "\n",
      "[6026 rows x 5 columns]\n"
     ]
    }
   ],
   "source": [
    "# Excluindo as coordenadas que estão zeradas\n",
    "acidentes_ajustado = acidentes_df_filtrado.loc[(acidentes_df_filtrado[' COORDENADA_X'] != 0.0) & (acidentes_df_filtrado[' COORDENADA_Y'] != 0.0)] \n",
    "print(acidentes_ajustado)"
   ]
  },
  {
   "cell_type": "markdown",
   "id": "2135d0e1",
   "metadata": {},
   "source": [
    "### Convertendo as coordenadas\n",
    "###### De:                Sirgas 2000 >> UTM E,N \n",
    "###### Para:              Sirgas 2000 >> Latitude, Longitude (graus decimais) "
   ]
  },
  {
   "cell_type": "code",
   "execution_count": 10,
   "id": "c009cf01",
   "metadata": {},
   "outputs": [],
   "source": [
    "# Criando um arquivo de texto\n",
    "coordenadas_ibge = open('coordenadas_ibge.txt', 'w')\n",
    "for i, row in acidentes_ajustado.iterrows():\n",
    "        coordenada_x = row[' COORDENADA_X']\n",
    "        coordenada_y = row[' COORDENADA_Y']\n",
    "        numero_boletim = row[' NUMERO_BOLETIM']\n",
    "        linha = f\"{numero_boletim} {coordenada_x:.4f} {coordenada_y:.4f} 23\\n\"\n",
    "        coordenadas_ibge.write(linha)"
   ]
  },
  {
   "cell_type": "markdown",
   "id": "a00ac3c3",
   "metadata": {},
   "source": [
    "O arquivo 'coordenadas_ibge.txt' foi processado no site :https://www.ibge.gov.br/geociencias/informacoes-sobre-posicionamento-geodesico/servicos-para-posicionamento-geodesico/16312-progrid.html?=&t=processar-os-dados\n"
   ]
  },
  {
   "cell_type": "code",
   "execution_count": 11,
   "id": "831a8879",
   "metadata": {},
   "outputs": [
    {
     "name": "stdout",
     "output_type": "stream",
     "text": [
      "                      id    origem_e     origem_n  origem_fuso  \\\n",
      "0     2017-034438990-001  610915,450  7797020,800           23   \n",
      "1     2017-034462371-001  611593,700  7793620,350           23   \n",
      "2     2017-034481430-001  610421,220  7795702,510           23   \n",
      "3     2017-034484488-001  611185,270  7794773,500           23   \n",
      "4     2017-034508281-001  612466,150  7796317,550           23   \n",
      "...                  ...         ...          ...          ...   \n",
      "6021  2019-038569968-001  612122,570  7796118,000           23   \n",
      "6022  2019-038575229-001  613172,330  7794521,410           23   \n",
      "6023  2019-038662530-001  609478,560  7794933,290           23   \n",
      "6024  2019-038730963-001  612206,310  7794875,730           23   \n",
      "6025  2019-038763333-001  610700,220  7797749,970           23   \n",
      "\n",
      "     resultado_lat_gd resultado_long_gd  \n",
      "0       -19,920010348     -43,940256854  \n",
      "1       -19,950695289     -43,933571159  \n",
      "2       -19,931949474     -43,944899333  \n",
      "3       -19,940299765     -43,937543465  \n",
      "4       -19,926275411     -43,925399662  \n",
      "...               ...               ...  \n",
      "6021    -19,928098195     -43,928669947  \n",
      "6022    -19,942462865     -43,918542654  \n",
      "6023    -19,938952808     -43,953859786  \n",
      "6024    -19,939317485     -43,927794187  \n",
      "6025    -19,913434377     -43,942356819  \n",
      "\n",
      "[6026 rows x 6 columns]\n"
     ]
    }
   ],
   "source": [
    "# Lendo o arquivo de saída do processamento das coordenadas pelo site do IBGE\n",
    "Coordenadas_ajustadas = pd.read_csv('saida.csv', sep=';', header=5, encoding='ISO-8859-1')\n",
    "print(Coordenadas_ajustadas)"
   ]
  },
  {
   "cell_type": "code",
   "execution_count": 12,
   "id": "523fc9b5",
   "metadata": {},
   "outputs": [
    {
     "data": {
      "text/plain": [
       "Index(['id', 'origem_e', 'origem_n', 'origem_fuso', 'resultado_lat_gd',\n",
       "       'resultado_long_gd'],\n",
       "      dtype='object')"
      ]
     },
     "execution_count": 12,
     "metadata": {},
     "output_type": "execute_result"
    }
   ],
   "source": [
    "Coordenadas_ajustadas.columns"
   ]
  },
  {
   "cell_type": "code",
   "execution_count": 13,
   "id": "7d358c69",
   "metadata": {},
   "outputs": [
    {
     "name": "stdout",
     "output_type": "stream",
     "text": [
      "          NUMERO_BOLETIM resultado_lat_gd resultado_long_gd\n",
      "0     2017-034438990-001    -19,920010348     -43,940256854\n",
      "1     2017-034462371-001    -19,950695289     -43,933571159\n",
      "2     2017-034481430-001    -19,931949474     -43,944899333\n",
      "3     2017-034484488-001    -19,940299765     -43,937543465\n",
      "4     2017-034508281-001    -19,926275411     -43,925399662\n",
      "...                  ...              ...               ...\n",
      "6021  2019-038569968-001    -19,928098195     -43,928669947\n",
      "6022  2019-038575229-001    -19,942462865     -43,918542654\n",
      "6023  2019-038662530-001    -19,938952808     -43,953859786\n",
      "6024  2019-038730963-001    -19,939317485     -43,927794187\n",
      "6025  2019-038763333-001    -19,913434377     -43,942356819\n",
      "\n",
      "[6026 rows x 3 columns]\n"
     ]
    }
   ],
   "source": [
    "# Ajustando o data frame das coordenadas\n",
    "Coordenadas_reduzidas = Coordenadas_ajustadas.drop(columns=['origem_e', 'origem_n', 'origem_fuso'])\n",
    "Coordenadas_reduzidas.rename(columns={'id': ' NUMERO_BOLETIM'}, inplace=True)\n",
    "print(Coordenadas_reduzidas)"
   ]
  },
  {
   "cell_type": "code",
   "execution_count": 14,
   "id": "6e89f386",
   "metadata": {},
   "outputs": [
    {
     "name": "stdout",
     "output_type": "stream",
     "text": [
      "          NUMERO_BOLETIM  DATA HORA_BOLETIM    DESC_REGIONAL   COORDENADA_X  \\\n",
      "0     2017-034438990-001   11/11/2017 17:38  CENTRO-SUL           610915.45   \n",
      "1     2017-034462371-001   11/11/2017 19:59  CENTRO-SUL           611593.70   \n",
      "2     2017-034481430-001   11/11/2017 23:08  CENTRO-SUL           610421.22   \n",
      "3     2017-034484488-001   12/11/2017 00:23  CENTRO-SUL           611185.27   \n",
      "4     2017-034508281-001   12/11/2017 06:10  CENTRO-SUL           612466.15   \n",
      "...                  ...                ...              ...            ...   \n",
      "6021  2019-038569968-001   11/08/2019 21:25  CENTRO-SUL           612122.57   \n",
      "6022  2019-038575229-001   11/08/2019 21:38  CENTRO-SUL           613172.33   \n",
      "6023  2019-038662530-001   12/08/2019 11:26  CENTRO-SUL           609478.56   \n",
      "6024  2019-038730963-001   12/08/2019 16:04  CENTRO-SUL           612206.31   \n",
      "6025  2019-038763333-001   12/08/2019 18:46  CENTRO-SUL           610700.22   \n",
      "\n",
      "       COORDENADA_Y resultado_lat_gd resultado_long_gd  \n",
      "0        7797020.80    -19,920010348     -43,940256854  \n",
      "1        7793620.35    -19,950695289     -43,933571159  \n",
      "2        7795702.51    -19,931949474     -43,944899333  \n",
      "3        7794773.50    -19,940299765     -43,937543465  \n",
      "4        7796317.55    -19,926275411     -43,925399662  \n",
      "...             ...              ...               ...  \n",
      "6021     7796118.00    -19,928098195     -43,928669947  \n",
      "6022     7794521.41    -19,942462865     -43,918542654  \n",
      "6023     7794933.29    -19,938952808     -43,953859786  \n",
      "6024     7794875.73    -19,939317485     -43,927794187  \n",
      "6025     7797749.97    -19,913434377     -43,942356819  \n",
      "\n",
      "[6026 rows x 7 columns]\n"
     ]
    }
   ],
   "source": [
    "# Juntando os data frames das coordenadas e dos acidentes\n",
    "acidentes_df_mesclado = pd.merge(acidentes_ajustado, Coordenadas_reduzidas, on =' NUMERO_BOLETIM', how='inner')\n",
    "print(acidentes_df_mesclado)"
   ]
  },
  {
   "cell_type": "code",
   "execution_count": 22,
   "id": "dc979408",
   "metadata": {},
   "outputs": [
    {
     "name": "stdout",
     "output_type": "stream",
     "text": [
      "          NUMERO_BOLETIM  DATA HORA_BOLETIM    DESC_REGIONAL  \\\n",
      "0     2017-034438990-001   11/11/2017 17:38  CENTRO-SUL        \n",
      "1     2017-034462371-001   11/11/2017 19:59  CENTRO-SUL        \n",
      "2     2017-034481430-001   11/11/2017 23:08  CENTRO-SUL        \n",
      "3     2017-034484488-001   12/11/2017 00:23  CENTRO-SUL        \n",
      "4     2017-034508281-001   12/11/2017 06:10  CENTRO-SUL        \n",
      "...                  ...                ...              ...   \n",
      "6021  2019-038569968-001   11/08/2019 21:25  CENTRO-SUL        \n",
      "6022  2019-038575229-001   11/08/2019 21:38  CENTRO-SUL        \n",
      "6023  2019-038662530-001   12/08/2019 11:26  CENTRO-SUL        \n",
      "6024  2019-038730963-001   12/08/2019 16:04  CENTRO-SUL        \n",
      "6025  2019-038763333-001   12/08/2019 18:46  CENTRO-SUL        \n",
      "\n",
      "                       COORDENADA  \n",
      "0     -19.920010348,-43.940256854  \n",
      "1     -19.950695289,-43.933571159  \n",
      "2     -19.931949474,-43.944899333  \n",
      "3     -19.940299765,-43.937543465  \n",
      "4     -19.926275411,-43.925399662  \n",
      "...                           ...  \n",
      "6021  -19.928098195,-43.928669947  \n",
      "6022  -19.942462865,-43.918542654  \n",
      "6023  -19.938952808,-43.953859786  \n",
      "6024  -19.939317485,-43.927794187  \n",
      "6025  -19.913434377,-43.942356819  \n",
      "\n",
      "[6026 rows x 4 columns]\n"
     ]
    }
   ],
   "source": [
    "# Ajustando o data frame de acidentes\n",
    "acidentes_df_mesclado['COORDENADA']= acidentes_df_mesclado['resultado_lat_gd']+'/'+acidentes_df_mesclado['resultado_long_gd']\n",
    "acidentes_df_mesclado['COORDENADA'] = acidentes_df_mesclado['COORDENADA'].str.replace(',', '.')\n",
    "acidentes_df_mesclado['COORDENADA'] = acidentes_df_mesclado['COORDENADA'].str.replace('/',',')\n",
    "acidentes_final01 = acidentes_df_mesclado.drop(columns=[' COORDENADA_X', ' COORDENADA_Y','resultado_lat_gd','resultado_long_gd'])\n",
    "print(acidentes_final01)"
   ]
  },
  {
   "cell_type": "markdown",
   "id": "d01e3290",
   "metadata": {},
   "source": [
    "### Encontrando os endereços\n"
   ]
  },
  {
   "cell_type": "code",
   "execution_count": 23,
   "id": "19204f50",
   "metadata": {},
   "outputs": [
    {
     "name": "stdout",
     "output_type": "stream",
     "text": [
      "Requirement already satisfied: geopy in c:\\users\\eduarda mb\\anaconda3\\lib\\site-packages (2.3.0)\n",
      "Requirement already satisfied: geographiclib<3,>=1.52 in c:\\users\\eduarda mb\\anaconda3\\lib\\site-packages (from geopy) (2.0)\n",
      "Note: you may need to restart the kernel to use updated packages.\n"
     ]
    }
   ],
   "source": [
    "pip install geopy"
   ]
  },
  {
   "cell_type": "code",
   "execution_count": 24,
   "id": "eaae9279",
   "metadata": {},
   "outputs": [],
   "source": [
    "# Encontrando o endereço a partir das coordenadas\n",
    "from geopy.geocoders import Nominatim\n",
    "geolocator = Nominatim(user_agent=\"meu_endereço\")\n",
    "\n",
    "from geopy.extra.rate_limiter import RateLimiter\n",
    "geocode = RateLimiter(geolocator.reverse, min_delay_seconds=1) #Adiciona um intervalo de tempo de 1 segundo entre as solicitações para evitar possíveis erros causados pelo grande volume de solicitações\n",
    "acidentes_final01['ENDEREÇO'] = acidentes_final01['COORDENADA'].apply(geocode)\n"
   ]
  },
  {
   "cell_type": "code",
   "execution_count": 3,
   "id": "0886ead6",
   "metadata": {},
   "outputs": [
    {
     "name": "stdout",
     "output_type": "stream",
     "text": [
      "          NUMERO_BOLETIM  DATA HORA_BOLETIM    DESC_REGIONAL  \\\n",
      "0     2017-034438990-001   11/11/2017 17:38  CENTRO-SUL        \n",
      "1     2017-034462371-001   11/11/2017 19:59  CENTRO-SUL        \n",
      "2     2017-034481430-001   11/11/2017 23:08  CENTRO-SUL        \n",
      "3     2017-034484488-001   12/11/2017 00:23  CENTRO-SUL        \n",
      "4     2017-034508281-001   12/11/2017 06:10  CENTRO-SUL        \n",
      "...                  ...                ...              ...   \n",
      "6021  2019-038569968-001   11/08/2019 21:25  CENTRO-SUL        \n",
      "6022  2019-038575229-001   11/08/2019 21:38  CENTRO-SUL        \n",
      "6023  2019-038662530-001   12/08/2019 11:26  CENTRO-SUL        \n",
      "6024  2019-038730963-001   12/08/2019 16:04  CENTRO-SUL        \n",
      "6025  2019-038763333-001   12/08/2019 18:46  CENTRO-SUL        \n",
      "\n",
      "                       COORDENADA  \\\n",
      "0     -19.920010348,-43.940256854   \n",
      "1     -19.950695289,-43.933571159   \n",
      "2     -19.931949474,-43.944899333   \n",
      "3     -19.940299765,-43.937543465   \n",
      "4     -19.926275411,-43.925399662   \n",
      "...                           ...   \n",
      "6021  -19.928098195,-43.928669947   \n",
      "6022  -19.942462865,-43.918542654   \n",
      "6023  -19.938952808,-43.953859786   \n",
      "6024  -19.939317485,-43.927794187   \n",
      "6025  -19.913434377,-43.942356819   \n",
      "\n",
      "                                               ENDEREÇO  \n",
      "0     720, Rua São Paulo, Centro, Regional Centro-Su...  \n",
      "1     Garden Route, Rua Califórnia, Sion, Regional C...  \n",
      "2     Tizé, 2205, Rua Curitiba, Lourdes, Belo Horizo...  \n",
      "3     6439, Avenida do Contorno, São Pedro, Regional...  \n",
      "4     Avenida Francisco Sales, São Lucas, Santa Efig...  \n",
      "...                                                 ...  \n",
      "6021  Avenida Bernardo Monteiro, Santa Efigênia, Reg...  \n",
      "6022  Quase Nada, Rua Caraça, Serra, Regional Centro...  \n",
      "6023  Avenida Raja Gabaglia, Gutierrez, Regional Oes...  \n",
      "6024  5290, Rua Piauí, Savassi, Regional Centro-Sul,...  \n",
      "6025  Avenida do Contorno, Centro, Regional Centro-S...  \n",
      "\n",
      "[6026 rows x 5 columns]\n"
     ]
    }
   ],
   "source": [
    "# Vizualizando o data frame 'acidentes_final01'\n",
    "acidentes_final01=pd.read_excel('acidentes_final01.xlsx')\n",
    "print(acidentes_final01)"
   ]
  },
  {
   "cell_type": "markdown",
   "id": "8cffeeea",
   "metadata": {},
   "source": [
    "### Selecionando apenas os acidentes que ocorreram no Bairro Centro"
   ]
  },
  {
   "cell_type": "code",
   "execution_count": 4,
   "id": "488df5b4",
   "metadata": {},
   "outputs": [
    {
     "name": "stdout",
     "output_type": "stream",
     "text": [
      "          NUMERO_BOLETIM  DATA HORA_BOLETIM    DESC_REGIONAL  \\\n",
      "0     2017-034438990-001   11/11/2017 17:38  CENTRO-SUL        \n",
      "1     2017-034462371-001   11/11/2017 19:59  CENTRO-SUL        \n",
      "2     2017-034481430-001   11/11/2017 23:08  CENTRO-SUL        \n",
      "3     2017-034484488-001   12/11/2017 00:23  CENTRO-SUL        \n",
      "4     2017-034508281-001   12/11/2017 06:10  CENTRO-SUL        \n",
      "...                  ...                ...              ...   \n",
      "6021  2019-038569968-001   11/08/2019 21:25  CENTRO-SUL        \n",
      "6022  2019-038575229-001   11/08/2019 21:38  CENTRO-SUL        \n",
      "6023  2019-038662530-001   12/08/2019 11:26  CENTRO-SUL        \n",
      "6024  2019-038730963-001   12/08/2019 16:04  CENTRO-SUL        \n",
      "6025  2019-038763333-001   12/08/2019 18:46  CENTRO-SUL        \n",
      "\n",
      "                       COORDENADA  \\\n",
      "0     -19.920010348,-43.940256854   \n",
      "1     -19.950695289,-43.933571159   \n",
      "2     -19.931949474,-43.944899333   \n",
      "3     -19.940299765,-43.937543465   \n",
      "4     -19.926275411,-43.925399662   \n",
      "...                           ...   \n",
      "6021  -19.928098195,-43.928669947   \n",
      "6022  -19.942462865,-43.918542654   \n",
      "6023  -19.938952808,-43.953859786   \n",
      "6024  -19.939317485,-43.927794187   \n",
      "6025  -19.913434377,-43.942356819   \n",
      "\n",
      "                                               ENDEREÇO  \\\n",
      "0     720, Rua São Paulo, Centro, Regional Centro-Su...   \n",
      "1     Garden Route, Rua Califórnia, Sion, Regional C...   \n",
      "2     Tizé, 2205, Rua Curitiba, Lourdes, Belo Horizo...   \n",
      "3     6439, Avenida do Contorno, São Pedro, Regional...   \n",
      "4     Avenida Francisco Sales, São Lucas, Santa Efig...   \n",
      "...                                                 ...   \n",
      "6021  Avenida Bernardo Monteiro, Santa Efigênia, Reg...   \n",
      "6022  Quase Nada, Rua Caraça, Serra, Regional Centro...   \n",
      "6023  Avenida Raja Gabaglia, Gutierrez, Regional Oes...   \n",
      "6024  5290, Rua Piauí, Savassi, Regional Centro-Sul,...   \n",
      "6025  Avenida do Contorno, Centro, Regional Centro-S...   \n",
      "\n",
      "                            E01                   E02                   E03  \\\n",
      "0                           720         Rua São Paulo                Centro   \n",
      "1                  Garden Route        Rua Califórnia                  Sion   \n",
      "2                          Tizé                  2205          Rua Curitiba   \n",
      "3                          6439   Avenida do Contorno             São Pedro   \n",
      "4       Avenida Francisco Sales             São Lucas        Santa Efigênia   \n",
      "...                         ...                   ...                   ...   \n",
      "6021  Avenida Bernardo Monteiro        Santa Efigênia   Regional Centro-Sul   \n",
      "6022                 Quase Nada            Rua Caraça                 Serra   \n",
      "6023      Avenida Raja Gabaglia             Gutierrez        Regional Oeste   \n",
      "6024                       5290             Rua Piauí               Savassi   \n",
      "6025        Avenida do Contorno                Centro   Regional Centro-Sul   \n",
      "\n",
      "                       E04                                            E05  \\\n",
      "0      Regional Centro-Sul                                 Belo Horizonte   \n",
      "1      Regional Centro-Sul                                 Belo Horizonte   \n",
      "2                  Lourdes                                 Belo Horizonte   \n",
      "3      Regional Centro-Sul                                 Belo Horizonte   \n",
      "4      Regional Centro-Sul                                 Belo Horizonte   \n",
      "...                    ...                                            ...   \n",
      "6021        Belo Horizonte   Região Geográfica Imediata de Belo Horizonte   \n",
      "6022   Regional Centro-Sul                                 Belo Horizonte   \n",
      "6023        Belo Horizonte   Região Geográfica Imediata de Belo Horizonte   \n",
      "6024   Regional Centro-Sul                                 Belo Horizonte   \n",
      "6025        Belo Horizonte   Região Geográfica Imediata de Belo Horizonte   \n",
      "\n",
      "                                                E06  \\\n",
      "0      Região Geográfica Imediata de Belo Horizonte   \n",
      "1      Região Geográfica Imediata de Belo Horizonte   \n",
      "2      Região Geográfica Imediata de Belo Horizonte   \n",
      "3      Região Geográfica Imediata de Belo Horizonte   \n",
      "4      Região Geográfica Imediata de Belo Horizonte   \n",
      "...                                             ...   \n",
      "6021         Região Metropolitana de Belo Horizonte   \n",
      "6022   Região Geográfica Imediata de Belo Horizonte   \n",
      "6023         Região Metropolitana de Belo Horizonte   \n",
      "6024   Região Geográfica Imediata de Belo Horizonte   \n",
      "6025         Região Metropolitana de Belo Horizonte   \n",
      "\n",
      "                                                    E07  \\\n",
      "0                Região Metropolitana de Belo Horizonte   \n",
      "1                Região Metropolitana de Belo Horizonte   \n",
      "2                Região Metropolitana de Belo Horizonte   \n",
      "3                Região Metropolitana de Belo Horizonte   \n",
      "4                Região Metropolitana de Belo Horizonte   \n",
      "...                                                 ...   \n",
      "6021   Região Geográfica Intermediária de Belo Horiz...   \n",
      "6022             Região Metropolitana de Belo Horizonte   \n",
      "6023   Região Geográfica Intermediária de Belo Horiz...   \n",
      "6024             Região Metropolitana de Belo Horizonte   \n",
      "6025   Região Geográfica Intermediária de Belo Horiz...   \n",
      "\n",
      "                                                    E08              E09  \\\n",
      "0      Região Geográfica Intermediária de Belo Horiz...     Minas Gerais   \n",
      "1      Região Geográfica Intermediária de Belo Horiz...     Minas Gerais   \n",
      "2      Região Geográfica Intermediária de Belo Horiz...     Minas Gerais   \n",
      "3      Região Geográfica Intermediária de Belo Horiz...     Minas Gerais   \n",
      "4      Região Geográfica Intermediária de Belo Horiz...     Minas Gerais   \n",
      "...                                                 ...              ...   \n",
      "6021                                       Minas Gerais   Região Sudeste   \n",
      "6022   Região Geográfica Intermediária de Belo Horiz...     Minas Gerais   \n",
      "6023                                       Minas Gerais   Região Sudeste   \n",
      "6024   Região Geográfica Intermediária de Belo Horiz...     Minas Gerais   \n",
      "6025                                       Minas Gerais   Região Sudeste   \n",
      "\n",
      "                  E10         E11      E12   E13   E14  \n",
      "0      Região Sudeste   30170-120   Brasil  None  None  \n",
      "1      Região Sudeste   30315-500   Brasil  None  None  \n",
      "2      Região Sudeste   30180-130   Brasil  None  None  \n",
      "3      Região Sudeste   30110-042   Brasil  None  None  \n",
      "4      Região Sudeste   30130-090   Brasil  None  None  \n",
      "...               ...         ...      ...   ...   ...  \n",
      "6021        30150-290      Brasil     None  None  None  \n",
      "6022   Região Sudeste   30210-550   Brasil  None  None  \n",
      "6023        30430-340      Brasil     None  None  None  \n",
      "6024   Região Sudeste   30110-035   Brasil  None  None  \n",
      "6025        30120-020      Brasil     None  None  None  \n",
      "\n",
      "[6026 rows x 19 columns]\n"
     ]
    }
   ],
   "source": [
    "# Dividindo os valores da coluna \"ENDEREÇO\"\n",
    "acidentes_final02 = acidentes_final01\n",
    "acidentes_final02[['E01','E02','E03','E04','E05','E06','E07','E08','E09','E10','E11','E12','E13','E14']]=acidentes_final02['ENDEREÇO'].str.split(',',n=14, expand=True)\n",
    "print(acidentes_final02)"
   ]
  },
  {
   "cell_type": "code",
   "execution_count": 5,
   "id": "b9900bad",
   "metadata": {},
   "outputs": [
    {
     "name": "stdout",
     "output_type": "stream",
     "text": [
      "   FILTRO  NUM. VALORES POSITIVOS\n",
      "0     E01                       9\n",
      "1     E02                     668\n",
      "2     E03                     824\n",
      "3     E04                     133\n",
      "4     E05                       0\n",
      "5     E06                       0\n",
      "6     E07                       0\n",
      "7     E08                       0\n",
      "8     E09                       0\n",
      "9     E10                       0\n",
      "10    E11                       0\n",
      "11    E12                       0\n",
      "12    E13                       0\n",
      "13    E14                       0\n"
     ]
    }
   ],
   "source": [
    "# Procurando pelo termo 'Centro'\n",
    "filtro01 = acidentes_final02['E01'].str.strip()=='Centro'# Desconsiderando os espaços em branco\n",
    "filtro02 = acidentes_final02['E02'].str.strip()=='Centro'\n",
    "filtro03 = acidentes_final02['E03'].str.strip()=='Centro'\n",
    "filtro04 = acidentes_final02['E04'].str.strip()=='Centro'\n",
    "filtro05 = acidentes_final02['E05'].str.strip()=='Centro'\n",
    "filtro06 = acidentes_final02['E06'].str.strip()=='Centro'\n",
    "filtro07 = acidentes_final02['E07'].str.strip()=='Centro'\n",
    "filtro08 = acidentes_final02['E08'].str.strip()=='Centro'\n",
    "filtro09 = acidentes_final02['E09'].str.strip()=='Centro'\n",
    "filtro10 = acidentes_final02['E10'].str.strip()=='Centro'\n",
    "filtro11 = acidentes_final02['E11'].str.strip()=='Centro'\n",
    "filtro12 = acidentes_final02['E12'].str.strip()=='Centro'\n",
    "filtro13 = acidentes_final02['E13'].str.strip()=='Centro'\n",
    "filtro14 = acidentes_final02['E14'].str.strip()=='Centro'\n",
    "\n",
    "# Verificando o número de valores positivos em cada filtro\n",
    "\n",
    "valores = {\n",
    "    'FILTRO': ['E01', 'E02', 'E03', 'E04', 'E05', 'E06', 'E07', 'E08', 'E09', 'E10', 'E11', 'E12', 'E13', 'E14'],\n",
    "    'NUM. VALORES POSITIVOS': [sum(filtro01), sum(filtro02), sum(filtro03), sum(filtro04), sum(filtro05), sum(filtro06), sum(filtro07), sum(filtro08), sum(filtro09), sum(filtro10), sum(filtro11), sum(filtro12), sum(filtro13), sum(filtro14)]\n",
    "}\n",
    "\n",
    "valores_positivos = pd.DataFrame(valores)\n",
    "print(valores_positivos)"
   ]
  },
  {
   "cell_type": "code",
   "execution_count": 6,
   "id": "99616d2a",
   "metadata": {},
   "outputs": [
    {
     "name": "stdout",
     "output_type": "stream",
     "text": [
      "Número total de valores positivos: 1634\n"
     ]
    }
   ],
   "source": [
    "print('Número total de valores positivos: {}'.format(sum(valores_positivos['NUM. VALORES POSITIVOS'])))\n"
   ]
  },
  {
   "cell_type": "code",
   "execution_count": 7,
   "id": "dba2a0e0",
   "metadata": {},
   "outputs": [
    {
     "name": "stdout",
     "output_type": "stream",
     "text": [
      "          NUMERO_BOLETIM  DATA HORA_BOLETIM    DESC_REGIONAL  \\\n",
      "0     2017-034438990-001   11/11/2017 17:38  CENTRO-SUL        \n",
      "1     2017-034462371-001   11/11/2017 19:59  CENTRO-SUL        \n",
      "2     2017-034481430-001   11/11/2017 23:08  CENTRO-SUL        \n",
      "3     2017-034484488-001   12/11/2017 00:23  CENTRO-SUL        \n",
      "4     2017-034508281-001   12/11/2017 06:10  CENTRO-SUL        \n",
      "...                  ...                ...              ...   \n",
      "6021  2019-038569968-001   11/08/2019 21:25  CENTRO-SUL        \n",
      "6022  2019-038575229-001   11/08/2019 21:38  CENTRO-SUL        \n",
      "6023  2019-038662530-001   12/08/2019 11:26  CENTRO-SUL        \n",
      "6024  2019-038730963-001   12/08/2019 16:04  CENTRO-SUL        \n",
      "6025  2019-038763333-001   12/08/2019 18:46  CENTRO-SUL        \n",
      "\n",
      "                       COORDENADA  \\\n",
      "0     -19.920010348,-43.940256854   \n",
      "1     -19.950695289,-43.933571159   \n",
      "2     -19.931949474,-43.944899333   \n",
      "3     -19.940299765,-43.937543465   \n",
      "4     -19.926275411,-43.925399662   \n",
      "...                           ...   \n",
      "6021  -19.928098195,-43.928669947   \n",
      "6022  -19.942462865,-43.918542654   \n",
      "6023  -19.938952808,-43.953859786   \n",
      "6024  -19.939317485,-43.927794187   \n",
      "6025  -19.913434377,-43.942356819   \n",
      "\n",
      "                                               ENDEREÇO  \\\n",
      "0     720, Rua São Paulo, Centro, Regional Centro-Su...   \n",
      "1     Garden Route, Rua Califórnia, Sion, Regional C...   \n",
      "2     Tizé, 2205, Rua Curitiba, Lourdes, Belo Horizo...   \n",
      "3     6439, Avenida do Contorno, São Pedro, Regional...   \n",
      "4     Avenida Francisco Sales, São Lucas, Santa Efig...   \n",
      "...                                                 ...   \n",
      "6021  Avenida Bernardo Monteiro, Santa Efigênia, Reg...   \n",
      "6022  Quase Nada, Rua Caraça, Serra, Regional Centro...   \n",
      "6023  Avenida Raja Gabaglia, Gutierrez, Regional Oes...   \n",
      "6024  5290, Rua Piauí, Savassi, Regional Centro-Sul,...   \n",
      "6025  Avenida do Contorno, Centro, Regional Centro-S...   \n",
      "\n",
      "                            E01                   E02                   E03  \\\n",
      "0                           720         Rua São Paulo                Centro   \n",
      "1                  Garden Route        Rua Califórnia                  Sion   \n",
      "2                          Tizé                  2205          Rua Curitiba   \n",
      "3                          6439   Avenida do Contorno             São Pedro   \n",
      "4       Avenida Francisco Sales             São Lucas        Santa Efigênia   \n",
      "...                         ...                   ...                   ...   \n",
      "6021  Avenida Bernardo Monteiro        Santa Efigênia   Regional Centro-Sul   \n",
      "6022                 Quase Nada            Rua Caraça                 Serra   \n",
      "6023      Avenida Raja Gabaglia             Gutierrez        Regional Oeste   \n",
      "6024                       5290             Rua Piauí               Savassi   \n",
      "6025        Avenida do Contorno                Centro   Regional Centro-Sul   \n",
      "\n",
      "                       E04  \n",
      "0      Regional Centro-Sul  \n",
      "1      Regional Centro-Sul  \n",
      "2                  Lourdes  \n",
      "3      Regional Centro-Sul  \n",
      "4      Regional Centro-Sul  \n",
      "...                    ...  \n",
      "6021        Belo Horizonte  \n",
      "6022   Regional Centro-Sul  \n",
      "6023        Belo Horizonte  \n",
      "6024   Regional Centro-Sul  \n",
      "6025        Belo Horizonte  \n",
      "\n",
      "[6026 rows x 9 columns]\n"
     ]
    }
   ],
   "source": [
    "# Eliminando as colunas desnecessárias\n",
    "acidentes_final03 = acidentes_final02.drop(columns=['E05', 'E06', 'E07', 'E08', 'E09', 'E10', 'E11', 'E12', 'E13', 'E14'])\n",
    "print(acidentes_final03)"
   ]
  },
  {
   "cell_type": "code",
   "execution_count": 8,
   "id": "b457d5ce",
   "metadata": {},
   "outputs": [
    {
     "name": "stdout",
     "output_type": "stream",
     "text": [
      "          NUMERO_BOLETIM  DATA HORA_BOLETIM    DESC_REGIONAL  \\\n",
      "0     2017-034438990-001   11/11/2017 17:38  CENTRO-SUL        \n",
      "5     2017-034512721-001   12/11/2017 09:29  CENTRO-SUL        \n",
      "9     2017-035699720-001   20/11/2017 09:43  CENTRO-SUL        \n",
      "15    2017-035769564-001   20/11/2017 17:31  CENTRO-SUL        \n",
      "16    2017-035778537-001   20/11/2017 17:07  CENTRO-SUL        \n",
      "...                  ...                ...              ...   \n",
      "6009  2019-055674489-001   12/11/2019 17:03  CENTRO-SUL        \n",
      "6012  2019-055802785-001   13/11/2019 10:39  CENTRO-SUL        \n",
      "6016  2019-055876803-001   13/11/2019 17:35  CENTRO-SUL        \n",
      "6020  2019-038564310-001   11/08/2019 20:47  CENTRO-SUL        \n",
      "6025  2019-038763333-001   12/08/2019 18:46  CENTRO-SUL        \n",
      "\n",
      "                       COORDENADA  \\\n",
      "0     -19.920010348,-43.940256854   \n",
      "5     -19.917797895,-43.930673168   \n",
      "9     -19.917583385,-43.934223834   \n",
      "15    -19.921013321,-43.944665907   \n",
      "16    -19.917302950,-43.935374903   \n",
      "...                           ...   \n",
      "6009  -19.916618722,-43.943470312   \n",
      "6012  -19.914757805,-43.934664832   \n",
      "6016  -19.914836098,-43.941116930   \n",
      "6020  -19.916010873,-43.940565520   \n",
      "6025  -19.913434377,-43.942356819   \n",
      "\n",
      "                                               ENDEREÇO  \\\n",
      "0     720, Rua São Paulo, Centro, Regional Centro-Su...   \n",
      "5     416, Avenida Assis Chateaubriand, Centro, Flor...   \n",
      "9     Rua dos Caetés, Centro, Regional Centro-Sul, B...   \n",
      "15    Avenida Olegário Maciel, Centro, Regional Cent...   \n",
      "16    Rua dos Caetés, Centro, Regional Centro-Sul, B...   \n",
      "...                                                 ...   \n",
      "6009  956, Rua dos Tupinambás, Centro, Regional Cent...   \n",
      "6012  Avenida do Contorno, Centro, Regional Centro-S...   \n",
      "6016  Epa, Rua Saturnino de Brito, Centro, Regional ...   \n",
      "6020  Rua dos Caetés, Centro, Regional Centro-Sul, B...   \n",
      "6025  Avenida do Contorno, Centro, Regional Centro-S...   \n",
      "\n",
      "                          E01                           E02  \\\n",
      "0                         720                 Rua São Paulo   \n",
      "5                         416   Avenida Assis Chateaubriand   \n",
      "9              Rua dos Caetés                        Centro   \n",
      "15    Avenida Olegário Maciel                        Centro   \n",
      "16             Rua dos Caetés                        Centro   \n",
      "...                       ...                           ...   \n",
      "6009                      956            Rua dos Tupinambás   \n",
      "6012      Avenida do Contorno                        Centro   \n",
      "6016                      Epa        Rua Saturnino de Brito   \n",
      "6020           Rua dos Caetés                        Centro   \n",
      "6025      Avenida do Contorno                        Centro   \n",
      "\n",
      "                       E03                   E04  \n",
      "0                   Centro   Regional Centro-Sul  \n",
      "5                   Centro              Floresta  \n",
      "9      Regional Centro-Sul        Belo Horizonte  \n",
      "15     Regional Centro-Sul        Belo Horizonte  \n",
      "16     Regional Centro-Sul        Belo Horizonte  \n",
      "...                    ...                   ...  \n",
      "6009                Centro   Regional Centro-Sul  \n",
      "6012   Regional Centro-Sul        Belo Horizonte  \n",
      "6016                Centro   Regional Centro-Sul  \n",
      "6020   Regional Centro-Sul        Belo Horizonte  \n",
      "6025   Regional Centro-Sul        Belo Horizonte  \n",
      "\n",
      "[1634 rows x 9 columns]\n"
     ]
    }
   ],
   "source": [
    "# Filtrando as linhas que contém o termo 'Centro'\n",
    "acidentes_final04 = acidentes_final03[(acidentes_final03['E01'].str.strip() == 'Centro') |\n",
    "                                      (acidentes_final03['E02'].str.strip() == 'Centro') |\n",
    "                                      (acidentes_final03['E03'].str.strip() == 'Centro') | \n",
    "                                      (acidentes_final03['E04'].str.strip() == 'Centro')]\n",
    "print(acidentes_final04)\n"
   ]
  },
  {
   "cell_type": "markdown",
   "id": "5f9a9c63",
   "metadata": {},
   "source": [
    "### Organização da Base de Acidentes que será utilizada na pesquisa"
   ]
  },
  {
   "cell_type": "code",
   "execution_count": 9,
   "id": "e7def76a",
   "metadata": {},
   "outputs": [
    {
     "name": "stdout",
     "output_type": "stream",
     "text": [
      "          NUMERO_BOLETIM   DATA HORA_BOLETIM                   COORDENADA  \\\n",
      "0     2017-034438990-001 2017-11-11 17:38:00  -19.920010348,-43.940256854   \n",
      "5     2017-034512721-001 2017-11-12 09:29:00  -19.917797895,-43.930673168   \n",
      "9     2017-035699720-001 2017-11-20 09:43:00  -19.917583385,-43.934223834   \n",
      "15    2017-035769564-001 2017-11-20 17:31:00  -19.921013321,-43.944665907   \n",
      "16    2017-035778537-001 2017-11-20 17:07:00  -19.917302950,-43.935374903   \n",
      "...                  ...                 ...                          ...   \n",
      "6009  2019-055674489-001 2019-11-12 17:03:00  -19.916618722,-43.943470312   \n",
      "6012  2019-055802785-001 2019-11-13 10:39:00  -19.914757805,-43.934664832   \n",
      "6016  2019-055876803-001 2019-11-13 17:35:00  -19.914836098,-43.941116930   \n",
      "6020  2019-038564310-001 2019-08-11 20:47:00  -19.916010873,-43.940565520   \n",
      "6025  2019-038763333-001 2019-08-12 18:46:00  -19.913434377,-43.942356819   \n",
      "\n",
      "      MÊS  HORA  \n",
      "0      11    17  \n",
      "5      11     9  \n",
      "9      11     9  \n",
      "15     11    17  \n",
      "16     11    17  \n",
      "...   ...   ...  \n",
      "6009   11    17  \n",
      "6012   11    10  \n",
      "6016   11    17  \n",
      "6020    8    20  \n",
      "6025    8    18  \n",
      "\n",
      "[1634 rows x 5 columns]\n"
     ]
    }
   ],
   "source": [
    "# Eliminando colunas desnecessárias\n",
    "acidentes_final05 = acidentes_final04.drop(columns=[' DESC_REGIONAL','ENDEREÇO','E01','E02','E03','E04'])\n",
    "# Organizando os dados\n",
    "acidentes_final05[' DATA HORA_BOLETIM'] = pd.to_datetime(acidentes_final05[' DATA HORA_BOLETIM'], format='%d/%m/%Y %H:%M')\n",
    "# Criando as colunas \"Hora\" e \"Mês\"\n",
    "acidentes_final05['MÊS'] = acidentes_final05[' DATA HORA_BOLETIM'].dt.month\n",
    "acidentes_final05['HORA'] = acidentes_final05[' DATA HORA_BOLETIM'].dt.hour\n",
    "print(acidentes_final05)"
   ]
  },
  {
   "cell_type": "code",
   "execution_count": 10,
   "id": "9f81bef1",
   "metadata": {},
   "outputs": [],
   "source": [
    "# Fazendo os ajustes finais e exportando o data frame de acidentes finalizado\n",
    "acidentes_final05.to_excel('Base_Acidentes.xlsx', index=False)"
   ]
  }
 ],
 "metadata": {
  "kernelspec": {
   "display_name": "Python 3 (ipykernel)",
   "language": "python",
   "name": "python3"
  },
  "language_info": {
   "codemirror_mode": {
    "name": "ipython",
    "version": 3
   },
   "file_extension": ".py",
   "mimetype": "text/x-python",
   "name": "python",
   "nbconvert_exporter": "python",
   "pygments_lexer": "ipython3",
   "version": "3.9.7"
  }
 },
 "nbformat": 4,
 "nbformat_minor": 5
}
